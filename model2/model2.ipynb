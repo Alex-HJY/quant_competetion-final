{
 "cells": [
  {
   "cell_type": "code",
   "execution_count": 1,
   "metadata": {},
   "outputs": [],
   "source": [
    "import numpy as np\n",
    "import pandas as pd\n",
    "import matplotlib.pyplot as plt\n",
    "from datetime import timedelta\n",
    "from dateutil import parser\n",
    "from datetime import datetime\n",
    "%matplotlib inline\n",
    "dir_name='model2'"
   ]
  },
  {
   "cell_type": "code",
   "execution_count": 2,
   "metadata": {},
   "outputs": [],
   "source": [
    "\"\"\"\n",
    "读取数据\n",
    "\"\"\"\n",
    "\n",
    "economic_df = pd.read_csv('C:\\Alex_Code\\quant_competetion-final\\data\\economic_indicator.csv', \n",
    "                          encoding='utf-8-sig', index_col='DateTime')\n",
    "economic_df.index=economic_df.index.map(lambda x:str(x)[:-3])\n",
    "economic_df.index = pd.DatetimeIndex(economic_df.index)\n",
    "index1='CPI当月同比'\n",
    "index2='宏观经济景气指数先行指数'\n",
    "economic_df = economic_df[[index1, index2]]"
   ]
  },
  {
   "cell_type": "code",
   "execution_count": 3,
   "metadata": {
    "collapsed": true
   },
   "outputs": [
    {
     "name": "stderr",
     "output_type": "stream",
     "text": [
      "C:\\Alex_Work\\anaconda3\\lib\\site-packages\\ipykernel_launcher.py:25: DeprecationWarning: \n.ix is deprecated. Please use\n.loc for label based indexing or\n.iloc for positional indexing\n\nSee the documentation here:\nhttp://pandas.pydata.org/pandas-docs/stable/indexing.html#ix-indexer-is-deprecated\nC:\\Alex_Work\\anaconda3\\lib\\site-packages\\ipykernel_launcher.py:15: DeprecationWarning: \n.ix is deprecated. Please use\n.loc for label based indexing or\n.iloc for positional indexing\n\nSee the documentation here:\nhttp://pandas.pydata.org/pandas-docs/stable/indexing.html#ix-indexer-is-deprecated\n  from ipykernel import kernelapp as app\nC:\\Alex_Work\\anaconda3\\lib\\site-packages\\ipykernel_launcher.py:19: DeprecationWarning: \n.ix is deprecated. Please use\n.loc for label based indexing or\n.iloc for positional indexing\n\nSee the documentation here:\nhttp://pandas.pydata.org/pandas-docs/stable/indexing.html#ix-indexer-is-deprecated\nC:\\Alex_Work\\anaconda3\\lib\\site-packages\\ipykernel_launcher.py:23: DeprecationWarning: \n.ix is deprecated. Please use\n.loc for label based indexing or\n.iloc for positional indexing\n\nSee the documentation here:\nhttp://pandas.pydata.org/pandas-docs/stable/indexing.html#ix-indexer-is-deprecated\nC:\\Alex_Work\\anaconda3\\lib\\site-packages\\ipykernel_launcher.py:11: DeprecationWarning: \n.ix is deprecated. Please use\n.loc for label based indexing or\n.iloc for positional indexing\n\nSee the documentation here:\nhttp://pandas.pydata.org/pandas-docs/stable/indexing.html#ix-indexer-is-deprecated\n  # This is added back by InteractiveShellApp.init_path()\n"
     ]
    },
    {
     "name": "stderr",
     "output_type": "stream",
     "text": [
      "C:\\Alex_Work\\anaconda3\\lib\\site-packages\\ipykernel_launcher.py:33: DeprecationWarning: \n.ix is deprecated. Please use\n.loc for label based indexing or\n.iloc for positional indexing\n\nSee the documentation here:\nhttp://pandas.pydata.org/pandas-docs/stable/indexing.html#ix-indexer-is-deprecated\nC:\\Alex_Work\\anaconda3\\lib\\site-packages\\ipykernel_launcher.py:43: DeprecationWarning: \n.ix is deprecated. Please use\n.loc for label based indexing or\n.iloc for positional indexing\n\nSee the documentation here:\nhttp://pandas.pydata.org/pandas-docs/stable/indexing.html#ix-indexer-is-deprecated\nC:\\Alex_Work\\anaconda3\\lib\\site-packages\\ipykernel_launcher.py:41: DeprecationWarning: \n.ix is deprecated. Please use\n.loc for label based indexing or\n.iloc for positional indexing\n\nSee the documentation here:\nhttp://pandas.pydata.org/pandas-docs/stable/indexing.html#ix-indexer-is-deprecated\nC:\\Alex_Work\\anaconda3\\lib\\site-packages\\ipykernel_launcher.py:37: DeprecationWarning: \n.ix is deprecated. Please use\n.loc for label based indexing or\n.iloc for positional indexing\n\nSee the documentation here:\nhttp://pandas.pydata.org/pandas-docs/stable/indexing.html#ix-indexer-is-deprecated\nC:\\Alex_Work\\anaconda3\\lib\\site-packages\\ipykernel_launcher.py:29: DeprecationWarning: \n.ix is deprecated. Please use\n.loc for label based indexing or\n.iloc for positional indexing\n\nSee the documentation here:\nhttp://pandas.pydata.org/pandas-docs/stable/indexing.html#ix-indexer-is-deprecated\n"
     ]
    },
    {
     "name": "stderr",
     "output_type": "stream",
     "text": [
      "C:\\Alex_Work\\anaconda3\\lib\\site-packages\\ipykernel_launcher.py:48: DeprecationWarning: \n.ix is deprecated. Please use\n.loc for label based indexing or\n.iloc for positional indexing\n\nSee the documentation here:\nhttp://pandas.pydata.org/pandas-docs/stable/indexing.html#ix-indexer-is-deprecated\nC:\\Alex_Work\\anaconda3\\lib\\site-packages\\ipykernel_launcher.py:49: DeprecationWarning: \n.ix is deprecated. Please use\n.loc for label based indexing or\n.iloc for positional indexing\n\nSee the documentation here:\nhttp://pandas.pydata.org/pandas-docs/stable/indexing.html#ix-indexer-is-deprecated\nC:\\Alex_Work\\anaconda3\\lib\\site-packages\\ipykernel_launcher.py:50: DeprecationWarning: \n.ix is deprecated. Please use\n.loc for label based indexing or\n.iloc for positional indexing\n\nSee the documentation here:\nhttp://pandas.pydata.org/pandas-docs/stable/indexing.html#ix-indexer-is-deprecated\nC:\\Alex_Work\\anaconda3\\lib\\site-packages\\ipykernel_launcher.py:52: DeprecationWarning: \n.ix is deprecated. Please use\n.loc for label based indexing or\n.iloc for positional indexing\n\nSee the documentation here:\nhttp://pandas.pydata.org/pandas-docs/stable/indexing.html#ix-indexer-is-deprecated\nC:\\Alex_Work\\anaconda3\\lib\\site-packages\\ipykernel_launcher.py:54: DeprecationWarning: \n.ix is deprecated. Please use\n.loc for label based indexing or\n.iloc for positional indexing\n\nSee the documentation here:\nhttp://pandas.pydata.org/pandas-docs/stable/indexing.html#ix-indexer-is-deprecated\nC:\\Alex_Work\\anaconda3\\lib\\site-packages\\ipykernel_launcher.py:55: DeprecationWarning: \n.ix is deprecated. Please use\n.loc for label based indexing or\n.iloc for positional indexing\n\nSee the documentation here:\nhttp://pandas.pydata.org/pandas-docs/stable/indexing.html#ix-indexer-is-deprecated\nC:\\Alex_Work\\anaconda3\\lib\\site-packages\\ipykernel_launcher.py:57: DeprecationWarning: \n.ix is deprecated. Please use\n.loc for label based indexing or\n.iloc for positional indexing\n\nSee the documentation here:\nhttp://pandas.pydata.org/pandas-docs/stable/indexing.html#ix-indexer-is-deprecated\n"
     ]
    }
   ],
   "source": [
    "\"\"\"\n",
    "计算每个月的趋势\n",
    "\"\"\"\n",
    "\n",
    "economic_df['cpi_trend']= 'up'\n",
    "economic_df['growth_trend']= 'down'\n",
    "month=4\n",
    "\n",
    "for  i in range(0, economic_df.__len__() - month):\n",
    "    if economic_df.iloc[i][index1]>economic_df.iloc[i + 1][index1] and economic_df.iloc[i + 1][index1]>economic_df.iloc[i + 2][index1] and \\\n",
    "        economic_df.iloc[i + 2][index1] > economic_df.iloc[i + 3][index1] :\n",
    "        economic_df.ix[i, 'cpi_trend']= 'down'\n",
    "        continue\n",
    "\n",
    "    if economic_df.iloc[i][index1]<economic_df.iloc[i + 1][index1] and economic_df.iloc[i + 1][index1]<economic_df.iloc[i + 2][index1] and \\\n",
    "        economic_df.iloc[i + 2][index1] < economic_df.iloc[i + 3][index1] :\n",
    "        economic_df.ix[i, 'cpi_trend']= 'up'\n",
    "        continue\n",
    "\n",
    "    if economic_df.iloc[i][index1]>max(economic_df.iloc[i + 1][index1], economic_df.iloc[i + 2][index1] , economic_df.iloc[i + 3][index1]) \\\n",
    "        and economic_df.iloc[i + month][index1]<min(economic_df.iloc[i + 1][index1], economic_df.iloc[i + 2][index1] , economic_df.iloc[i + 3][index1]):\n",
    "        economic_df.ix[i, 'cpi_trend']= 'down'\n",
    "        continue\n",
    "\n",
    "    if economic_df.iloc[i][index1] < min(economic_df.iloc[i + 1][index1], economic_df.iloc[i + 2][index1], economic_df.iloc[i + 3][index1]) \\\n",
    "            and economic_df.iloc[i + month][index1] > max(economic_df.iloc[i + 1][index1], economic_df.iloc[i + 2][index1], economic_df.iloc[i + 3][index1]):\n",
    "        economic_df.ix[i, 'cpi_trend'] = 'up'\n",
    "        continue\n",
    "    economic_df.ix[i, 'cpi_trend']=economic_df.iloc[i - 1]['cpi_trend']\n",
    "\n",
    "for  i in range(0, economic_df.__len__() - month):\n",
    "    if economic_df.iloc[i][index2]>economic_df.iloc[i + 1][index2] and economic_df.iloc[i + 1][index2]>economic_df.iloc[i + 2][index2] and \\\n",
    "        economic_df.iloc[i + 2][index2] > economic_df.iloc[i + 3][index2] :\n",
    "        economic_df.ix[i, 'growth_trend']= 'down'\n",
    "        continue\n",
    "\n",
    "    if economic_df.iloc[i][index2]<economic_df.iloc[i + 1][index2] and economic_df.iloc[i + 1][index2]<economic_df.iloc[i + 2][index2] and \\\n",
    "        economic_df.iloc[i + 2][index2] < economic_df.iloc[i + 3][index2] :\n",
    "        economic_df.ix[i, 'growth_trend']= 'up'\n",
    "        continue\n",
    "\n",
    "    if economic_df.iloc[i][index2]>max(economic_df.iloc[i + 1][index2], economic_df.iloc[i + 2][index2] , economic_df.iloc[i + 3][index2]) \\\n",
    "        and economic_df.iloc[i + month][index2]<min(economic_df.iloc[i + 1][index2], economic_df.iloc[i + 2][index2] , economic_df.iloc[i + 3][index2]):\n",
    "        economic_df.ix[i, 'growth_trend']= 'down'\n",
    "        continue\n",
    "\n",
    "    if economic_df.iloc[i][index2] < min(economic_df.iloc[i + 1][index2], economic_df.iloc[i + 2][index2], economic_df.iloc[i + 3][index2]) \\\n",
    "            and economic_df.iloc[i + month][index2] > max(economic_df.iloc[i + 1][index2], economic_df.iloc[i + 2][index2], economic_df.iloc[i + 3][index2]):\n",
    "        economic_df.ix[i, 'growth_trend'] = 'up'\n",
    "        continue\n",
    "    economic_df.ix[i, 'growth_trend']=economic_df.iloc[i - 1]['growth_trend']\n",
    "\n",
    "economic_df['trend']= ''\n",
    "\n",
    "for  i in range(0, economic_df.__len__() - month):\n",
    "    if economic_df.ix[i, 'growth_trend']== 'up':\n",
    "        if economic_df.ix[i, 'cpi_trend']== 'up':\n",
    "            economic_df.ix[i, 'trend']= '过热'\n",
    "        else:\n",
    "            economic_df.ix[i, 'trend'] = '复苏'\n",
    "    else:\n",
    "        if economic_df.ix[i, 'cpi_trend']== 'up':\n",
    "            economic_df.ix[i, 'trend']= '滞涨'\n",
    "        else:\n",
    "            economic_df.ix[i, 'trend'] = '衰退'\n",
    "\n",
    "economic_df[['cpi_trend','growth_trend','trend']].to_csv('./'+dir_name+'/trends.csv',encoding='utf-8-sig')"
   ]
  },
  {
   "cell_type": "code",
   "execution_count": 4,
   "metadata": {
    "collapsed": true
   },
   "outputs": [
    {
     "name": "stderr",
     "output_type": "stream",
     "text": [
      "C:\\Alex_Work\\anaconda3\\lib\\site-packages\\ipykernel_launcher.py:9: DeprecationWarning: \n.ix is deprecated. Please use\n.loc for label based indexing or\n.iloc for positional indexing\n\nSee the documentation here:\nhttp://pandas.pydata.org/pandas-docs/stable/indexing.html#ix-indexer-is-deprecated\n  if __name__ == '__main__':\nC:\\Alex_Work\\anaconda3\\lib\\site-packages\\ipykernel_launcher.py:14: DeprecationWarning: \n.ix is deprecated. Please use\n.loc for label based indexing or\n.iloc for positional indexing\n\nSee the documentation here:\nhttp://pandas.pydata.org/pandas-docs/stable/indexing.html#ix-indexer-is-deprecated\n  \nC:\\Alex_Work\\anaconda3\\lib\\site-packages\\ipykernel_launcher.py:18: DeprecationWarning: \n.ix is deprecated. Please use\n.loc for label based indexing or\n.iloc for positional indexing\n\nSee the documentation here:\nhttp://pandas.pydata.org/pandas-docs/stable/indexing.html#ix-indexer-is-deprecated\n"
     ]
    }
   ],
   "source": [
    "\"\"\"\n",
    "计算时钟周期\n",
    "\"\"\"\n",
    "df=economic_df[['cpi_trend','growth_trend','trend']]\n",
    "df=df['2006':'2014']\n",
    "periods=pd.DataFrame({'start': '', 'end': '', 'trend': ''}, index=[0])\n",
    "\n",
    "id=0\n",
    "temp_trend=df.ix[0,'trend']\n",
    "temp_start_time=df.index[0]\n",
    "temp_end_time=df.index[0]\n",
    "\n",
    "for i in range(df.__len__()):\n",
    "    if df.ix[i,'trend']!=temp_trend:\n",
    "        temp_end_time=df.index[i-1]\n",
    "        periods=periods.append(pd.DataFrame({'start':temp_start_time.date(), 'end':temp_end_time.date(), 'trend':temp_trend}, index=[i]))\n",
    "        temp_start_time = df.index[i]\n",
    "        temp_trend=df.ix[i,'trend']\n",
    "temp_end_time = df.index[ - 1]\n",
    "periods = periods.append(\n",
    "    pd.DataFrame({'start': temp_start_time.date(), 'end': temp_end_time.date(), 'trend': temp_trend}, index=[i]))\n",
    "\n",
    "periods.index=pd.Series(list(range(periods.__len__())))\n",
    "periods.index.name='id'\n",
    "periods.drop(index=0,inplace=True)\n",
    "from dateutil.relativedelta import relativedelta\n",
    "periods['end'] = periods['end'].map(lambda  x:(x+relativedelta(months=1)-relativedelta(days=x.day)))\n",
    "\n",
    "periods.to_csv('./'+dir_name+'/periods-2010.csv',encoding='utf-8-sig')\n"
   ]
  },
  {
   "cell_type": "code",
   "execution_count": 5,
   "metadata": {},
   "outputs": [],
   "source": [
    "\"\"\"\n",
    "计算收益排行\n",
    "\"\"\"\n",
    "from WindPy import *\n",
    "def get_wind_data(start, end):\n",
    "    df=w.wss(\"801011.SI,801012.SI,801013.SI,801014.SI,801015.SI,801016.SI,801017.SI,801018.SI,801021.SI,801022.SI,801023.SI,801024.SI,801032.SI,801033.SI,801034.SI,801035.SI,801036.SI,801037.SI,801041.SI,801051.SI,801053.SI,801054.SI,801055.SI,801072.SI,801073.SI,801074.SI,801075.SI,801076.SI,801081.SI,801082.SI,801083.SI,801084.SI,801085.SI,801092.SI,801093.SI,801094.SI,801101.SI,801102.SI,801111.SI,801112.SI,801123.SI,801124.SI,801131.SI,801132.SI,801141.SI,801142.SI,801143.SI,801151.SI,801152.SI,801153.SI,801154.SI,801155.SI,801156.SI,801161.SI,801162.SI,801163.SI,801164.SI,801171.SI,801172.SI,801173.SI,801174.SI,801175.SI,801176.SI,801177.SI,801178.SI,801181.SI,801182.SI,801191.SI,801192.SI,801193.SI,801194.SI,801202.SI,801203.SI,801204.SI,801205.SI,801211.SI,801212.SI,801213.SI,801214.SI,801215.SI,801222.SI,801223.SI,801231.SI,801711.SI,801712.SI,801713.SI,801721.SI,801722.SI,801723.SI,801724.SI,801725.SI,801731.SI,801732.SI,801733.SI,801734.SI,801741.SI,801742.SI,801743.SI,801744.SI,801751.SI,801752.SI,801761.SI,801881.SI\",\n",
    "             \"pct_chg_per,sec_name\",\"startDate=\"+start+\";endDate=\"+end,usedf=True)[1]\n",
    "    df=df.set_index('SEC_NAME')\n",
    "    df.columns=[start+'-'+end]\n",
    "    df.index.name='code'\n",
    "    return df"
   ]
  },
  {
   "cell_type": "code",
   "execution_count": 6,
   "metadata": {},
   "outputs": [],
   "source": [
    "def get_paiming(df=pd.DataFrame([]),trend=''):\n",
    "    # print(trend,df)\n",
    "    number_of_time = df.__len__()\n",
    "    dff=pd.DataFrame()\n",
    "    for i in range(number_of_time):\n",
    "        start_time = df.iloc[i]['start']\n",
    "        end_time = df.iloc[i]['end']\n",
    "        dff=dff.join(get_wind_data(start_time,end_time),how='right')\n",
    "\n",
    "    df.dropna(inplace=True)\n",
    "    # dff = dff[dff.index.map(int) > 2000012551000000]\n",
    "    dff.to_csv('./'+dir_name+'/'+trend+'.csv',encoding='utf-8-sig')\n",
    "    return []"
   ]
  },
  {
   "cell_type": "code",
   "execution_count": 7,
   "metadata": {
    "collapsed": true
   },
   "outputs": [
    {
     "name": "stdout",
     "output_type": "stream",
     "text": [
      "Welcome to use Wind Quant API for Python (WindPy)!\n\nCOPYRIGHT (C) 2017 WIND INFORMATION CO., LTD. ALL RIGHTS RESERVED.\nIN NO CIRCUMSTANCE SHALL WIND BE RESPONSIBLE FOR ANY DAMAGES OR LOSSES CAUSED BY USING WIND QUANT API FOR Python.\n"
     ]
    },
    {
     "name": "stderr",
     "output_type": "stream",
     "text": [
      "C:\\Alex_Work\\anaconda3\\lib\\site-packages\\ipykernel_launcher.py:10: SettingWithCopyWarning: \nA value is trying to be set on a copy of a slice from a DataFrame\n\nSee the caveats in the documentation: http://pandas.pydata.org/pandas-docs/stable/indexing.html#indexing-view-versus-copy\n  # Remove the CWD from sys.path while we load stuff.\n"
     ]
    }
   ],
   "source": [
    "\n",
    "w.start()\n",
    "ZHOUQI = ['复苏', '过热', '滞涨', '衰退']\n",
    "rank = periods\n",
    "rank = rank.sort_values('trend')\n",
    "# rank['start']=rank['start'].map(str)\n",
    "# rank['end']=rank['end'].map(str)\n",
    "# rank['start']=rank['start'].map(parser.parse)\n",
    "# rank['end']=rank['end'].map(parser.parse)\n",
    "rank['start'] = rank['start'].map(lambda  x:x.strftime('%Y%m%d'))\n",
    "rank['end'] = rank['end'].map(lambda  x:x.strftime('%Y%m%d'))\n",
    "for trend in ZHOUQI:\n",
    "    get_paiming(rank[rank['trend'] ==trend],trend)\n",
    "w.close()"
   ]
  },
  {
   "cell_type": "code",
   "execution_count": 8,
   "metadata": {},
   "outputs": [],
   "source": [
    "\"\"\"\n",
    "按照收益率综合排序\n",
    "\"\"\"\n",
    "ZHOUQI = [['复苏'], ['过热'], ['滞涨'], ['衰退']]\n",
    "ZHOUQI = np.array(ZHOUQI)\n",
    "\n",
    "for line in ZHOUQI:\n",
    "    trend = line[0]\n",
    "\n",
    "    df = pd.read_csv('./'+dir_name+'/'+str(trend)+'.csv', encoding='utf-8-sig',index_col='code',engine='python')\n",
    "    df['total_return_rate'] = 0\n",
    "    df=df.dropna()\n",
    "    for i in range(df.__len__()):\n",
    "        df['total_return_rate'].iloc[i] = df.iloc[i,1:].values.sum()\n",
    "    df=df.sort_values('total_return_rate',ascending=False)\n",
    "    df=df[df.columns.sort_values()]\n",
    "    df.to_csv('./'+dir_name+'/'+str(trend)+'_sort.csv',encoding='utf-8-sig')\n"
   ]
  },
  {
   "cell_type": "code",
   "execution_count": 31,
   "metadata": {},
   "outputs": [],
   "source": [
    "\"\"\"\n",
    "按照收益排名排序\n",
    "\"\"\"\n",
    "ZHOUQI = [['复苏'], ['过热'], ['滞涨'], ['衰退']]\n",
    "ZHOUQI = np.array(ZHOUQI)\n",
    "\n",
    "for line in ZHOUQI:\n",
    "    trend = line[0]\n",
    "    df = pd.read_csv('./'+dir_name+'/'+str(trend)+'.csv', encoding='utf-8-sig',index_col='code',engine='python')\n",
    "    df['total_return_rate'] = 0\n",
    "    df.dropna(inplace=True)\n",
    "    df['rank']=0\n",
    "    for i in df.columns:\n",
    "        if i in ('rank','total_return_rate'):\n",
    "            continue\n",
    "        df=df.sort_values(i,ascending=False)\n",
    "        df[i+'_rank']=df.reset_index().index\n",
    "        df['rank']+=df[i+'_rank']\n",
    "    df=df.sort_values('rank')\n",
    "    df.to_csv('./'+dir_name+'/'+str(trend)+'_sort.csv',encoding='utf-8-sig')\n"
   ]
  },
  {
   "cell_type": "code",
   "execution_count": 8,
   "metadata": {},
   "outputs": [],
   "source": [
    "def trade_model1(df_to_today, today, money, cash, portfolio):\n",
    "    df_to_today.loc[today]\n",
    "    df = pd.read_csv('./'+dir_name+'/trends.csv', encoding='utf-8-sig', index_col='DateTime')\n",
    "    df.index = df.index.map(lambda x: x[:-3])\n",
    "    trend = df.loc[today.strftime('%Y')+'-'+today.strftime('%m')]['trend']\n",
    "\n",
    "    df = pd.read_csv('./'+ dir_name+'/' + trend + '_sort.csv', encoding='utf-8-sig', engine='python',\n",
    "                     index_col='code')\n",
    "    targets = [df.index[0], df.index[1]]\n",
    "    df=pd.read_csv('./data/code_to_name.csv',engine='python',encoding='utf-8-sig',index_col='SEC_NAME')\n",
    "\n",
    "    for obj,share in portfolio.items():\n",
    "        cash+=df_to_today[df.loc[obj]['code']][-1]*share\n",
    "\n",
    "    portfolio={}\n",
    "\n",
    "    cash_share=(cash / targets.__len__())\n",
    "    for target in targets:\n",
    "\n",
    "        if pd.notna(df_to_today[df.loc[target]['code']][-1]):\n",
    "            portfolio[target]=cash_share/df_to_today[df.loc[target]['code']][-1]\n",
    "            cash-=cash_share\n",
    "\n",
    "    money=cash\n",
    "\n",
    "    for key,value in portfolio.items():\n",
    "        money+=df_to_today[df.loc[key]['code']][-1]*value\n",
    "\n",
    "    # print(today, money, cash, portfolio)\n",
    "    return money, cash, portfolio\n",
    "\n",
    "def trade_model2_3month(df_to_today, today, money, cash, portfolio):\n",
    "    df_to_today.loc[today]\n",
    "    df = pd.read_csv('./'+dir_name+'/trends.csv', encoding='utf-8-sig', index_col='DateTime')\n",
    "    df.index = df.index.map(lambda x: x[:-3])\n",
    "    trend = df.loc[(today-relativedelta(months=3)).strftime('%Y')+'-'+(today-relativedelta(months=3)).strftime('%m')]['trend']\n",
    "\n",
    "    df = pd.read_csv('./'+ dir_name+'/' + trend + '_sort.csv', encoding='utf-8-sig', engine='python',\n",
    "                     index_col='code')\n",
    "    targets = [df.index[0], df.index[1]]\n",
    "    df=pd.read_csv('./data/code_to_name.csv',engine='python',encoding='utf-8-sig',index_col='SEC_NAME')\n",
    "\n",
    "    for obj,share in portfolio.items():\n",
    "        cash+=df_to_today[df.loc[obj]['code']][-1]*share\n",
    "\n",
    "    portfolio={}\n",
    "\n",
    "    cash_share=(cash / targets.__len__())\n",
    "    for target in targets:\n",
    "\n",
    "        if pd.notna(df_to_today[df.loc[target]['code']][-1]):\n",
    "            portfolio[target]=cash_share/df_to_today[df.loc[target]['code']][-1]\n",
    "            cash-=cash_share\n",
    "\n",
    "    money=cash\n",
    "\n",
    "    for key,value in portfolio.items():\n",
    "        money+=df_to_today[df.loc[key]['code']][-1]*value\n",
    "\n",
    "    # print(today, money, cash, portfolio)\n",
    "    return money, cash, portfolio\n"
   ]
  },
  {
   "cell_type": "code",
   "execution_count": 16,
   "metadata": {},
   "outputs": [],
   "source": [
    "import back_test\n",
    "close_df = pd.read_csv('./data/index_close.csv', encoding='utf-8-sig',index_col='DateTime')\n",
    "close_df.index=pd.DatetimeIndex(close_df.index)\n",
    "backtest1 = back_test.back_test_system(close_df, 'hs300', save_dir='./back_test/')\n",
    "df=backtest1.back_test_by_day('lundong',trade_model1,'20140101','20180629')\n",
    "dff=backtest1.back_test_by_day('lundong_3month',trade_model2_3month,'20140101','20180629')"
   ]
  },
  {
   "cell_type": "code",
   "execution_count": 17,
   "metadata": {
    "collapsed": false
   },
   "outputs": [
    {
     "data": {
      "image/png": "[encoded data removed]",
      "text/plain": [
       "<Figure size 432x288 with 1 Axes>"
      ]
     },
     "metadata": {},
     "output_type": "display_data"
    }
   ],
   "source": [
    "backtest1.show(df,['lundong','lundong_3month'])"
   ]
  },
  {
   "cell_type": "code",
   "execution_count": 15,
   "metadata": {},
   "outputs": [
    {
     "name": "stdout",
     "output_type": "stream",
     "text": [
      "                 策略收益                基准收益                策略收益率  \\\n0  189.73156240982297  148.92968057029182  10.693246955893887%   \n\n                   回撤                sharp                 上涨率     alpha  \\\n0  60.63941560823194%  0.18612298375095132  0.4860406091370558  0.037509   \n\n       beta  \n0  1.114113  \n"
     ]
    }
   ],
   "source": [
    "dfff=backtest1.get_indexes(dff,['lundong_3month_money'])\n",
    "print(dfff)"
   ]
  },
  {
   "cell_type": "code",
   "execution_count": 16,
   "metadata": {},
   "outputs": [],
   "source": []
  },
  {
   "cell_type": "code",
   "execution_count": null,
   "metadata": {},
   "outputs": [],
   "source": []
  }
 ],
 "metadata": {
  "kernelspec": {
   "display_name": "Python 3",
   "language": "python",
   "name": "python3"
  },
  "language_info": {
   "codemirror_mode": {
    "name": "ipython",
    "version": 3
   },
   "file_extension": ".py",
   "mimetype": "text/x-python",
   "name": "python",
   "nbconvert_exporter": "python",
   "pygments_lexer": "ipython3",
   "version": "3.6.5"
  }
 },
 "nbformat": 4,
 "nbformat_minor": 1
}
