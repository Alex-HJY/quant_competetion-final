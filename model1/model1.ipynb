{
 "cells": [
  {
   "cell_type": "code",
   "execution_count": 2,
   "metadata": {},
   "outputs": [],
   "source": [
    "import numpy as np\n",
    "import pandas as pd\n",
    "import matplotlib.pyplot as plt\n",
    "from datetime import timedelta\n",
    "from dateutil import parser\n",
    "from datetime import datetime\n",
    "%matplotlib inline"
   ]
  },
  {
   "cell_type": "code",
   "execution_count": 3,
   "metadata": {},
   "outputs": [],
   "source": [
    "\"\"\"\n",
    "读取数据\n",
    "\"\"\"\n",
    "\n",
    "economic_df = pd.read_csv('C:\\Alex_Code\\quant_competetion-final\\data\\economic_indicator.csv', \n",
    "                          encoding='utf-8-sig', index_col='DateTime')\n",
    "economic_df.index=economic_df.index.map(lambda x:str(x)[:-3])\n",
    "economic_df.index = pd.DatetimeIndex(economic_df.index)\n",
    "economic_df = economic_df[['CPI当月同比', '宏观经济景气指数一致指数']]"
   ]
  },
  {
   "cell_type": "code",
   "execution_count": 4,
   "metadata": {
    "collapsed": true
   },
   "outputs": [
    {
     "name": "stderr",
     "output_type": "stream",
     "text": [
      "C:\\Alex_Work\\anaconda3\\lib\\site-packages\\ipykernel_launcher.py:25: DeprecationWarning: \n.ix is deprecated. Please use\n.loc for label based indexing or\n.iloc for positional indexing\n\nSee the documentation here:\nhttp://pandas.pydata.org/pandas-docs/stable/indexing.html#ix-indexer-is-deprecated\nC:\\Alex_Work\\anaconda3\\lib\\site-packages\\ipykernel_launcher.py:15: DeprecationWarning: \n.ix is deprecated. Please use\n.loc for label based indexing or\n.iloc for positional indexing\n\nSee the documentation here:\nhttp://pandas.pydata.org/pandas-docs/stable/indexing.html#ix-indexer-is-deprecated\n  from ipykernel import kernelapp as app\nC:\\Alex_Work\\anaconda3\\lib\\site-packages\\ipykernel_launcher.py:19: DeprecationWarning: \n.ix is deprecated. Please use\n.loc for label based indexing or\n.iloc for positional indexing\n\nSee the documentation here:\nhttp://pandas.pydata.org/pandas-docs/stable/indexing.html#ix-indexer-is-deprecated\nC:\\Alex_Work\\anaconda3\\lib\\site-packages\\ipykernel_launcher.py:23: DeprecationWarning: \n.ix is deprecated. Please use\n.loc for label based indexing or\n.iloc for positional indexing\n\nSee the documentation here:\nhttp://pandas.pydata.org/pandas-docs/stable/indexing.html#ix-indexer-is-deprecated\nC:\\Alex_Work\\anaconda3\\lib\\site-packages\\ipykernel_launcher.py:11: DeprecationWarning: \n.ix is deprecated. Please use\n.loc for label based indexing or\n.iloc for positional indexing\n\nSee the documentation here:\nhttp://pandas.pydata.org/pandas-docs/stable/indexing.html#ix-indexer-is-deprecated\n  # This is added back by InteractiveShellApp.init_path()\n"
     ]
    },
    {
     "name": "stderr",
     "output_type": "stream",
     "text": [
      "C:\\Alex_Work\\anaconda3\\lib\\site-packages\\ipykernel_launcher.py:43: DeprecationWarning: \n.ix is deprecated. Please use\n.loc for label based indexing or\n.iloc for positional indexing\n\nSee the documentation here:\nhttp://pandas.pydata.org/pandas-docs/stable/indexing.html#ix-indexer-is-deprecated\nC:\\Alex_Work\\anaconda3\\lib\\site-packages\\ipykernel_launcher.py:29: DeprecationWarning: \n.ix is deprecated. Please use\n.loc for label based indexing or\n.iloc for positional indexing\n\nSee the documentation here:\nhttp://pandas.pydata.org/pandas-docs/stable/indexing.html#ix-indexer-is-deprecated\nC:\\Alex_Work\\anaconda3\\lib\\site-packages\\ipykernel_launcher.py:37: DeprecationWarning: \n.ix is deprecated. Please use\n.loc for label based indexing or\n.iloc for positional indexing\n\nSee the documentation here:\nhttp://pandas.pydata.org/pandas-docs/stable/indexing.html#ix-indexer-is-deprecated\nC:\\Alex_Work\\anaconda3\\lib\\site-packages\\ipykernel_launcher.py:33: DeprecationWarning: \n.ix is deprecated. Please use\n.loc for label based indexing or\n.iloc for positional indexing\n\nSee the documentation here:\nhttp://pandas.pydata.org/pandas-docs/stable/indexing.html#ix-indexer-is-deprecated\nC:\\Alex_Work\\anaconda3\\lib\\site-packages\\ipykernel_launcher.py:41: DeprecationWarning: \n.ix is deprecated. Please use\n.loc for label based indexing or\n.iloc for positional indexing\n\nSee the documentation here:\nhttp://pandas.pydata.org/pandas-docs/stable/indexing.html#ix-indexer-is-deprecated\n"
     ]
    },
    {
     "name": "stderr",
     "output_type": "stream",
     "text": [
      "C:\\Alex_Work\\anaconda3\\lib\\site-packages\\ipykernel_launcher.py:48: DeprecationWarning: \n.ix is deprecated. Please use\n.loc for label based indexing or\n.iloc for positional indexing\n\nSee the documentation here:\nhttp://pandas.pydata.org/pandas-docs/stable/indexing.html#ix-indexer-is-deprecated\nC:\\Alex_Work\\anaconda3\\lib\\site-packages\\ipykernel_launcher.py:54: DeprecationWarning: \n.ix is deprecated. Please use\n.loc for label based indexing or\n.iloc for positional indexing\n\nSee the documentation here:\nhttp://pandas.pydata.org/pandas-docs/stable/indexing.html#ix-indexer-is-deprecated\nC:\\Alex_Work\\anaconda3\\lib\\site-packages\\ipykernel_launcher.py:55: DeprecationWarning: \n.ix is deprecated. Please use\n.loc for label based indexing or\n.iloc for positional indexing\n\nSee the documentation here:\nhttp://pandas.pydata.org/pandas-docs/stable/indexing.html#ix-indexer-is-deprecated\nC:\\Alex_Work\\anaconda3\\lib\\site-packages\\ipykernel_launcher.py:57: DeprecationWarning: \n.ix is deprecated. Please use\n.loc for label based indexing or\n.iloc for positional indexing\n\nSee the documentation here:\nhttp://pandas.pydata.org/pandas-docs/stable/indexing.html#ix-indexer-is-deprecated\nC:\\Alex_Work\\anaconda3\\lib\\site-packages\\ipykernel_launcher.py:49: DeprecationWarning: \n.ix is deprecated. Please use\n.loc for label based indexing or\n.iloc for positional indexing\n\nSee the documentation here:\nhttp://pandas.pydata.org/pandas-docs/stable/indexing.html#ix-indexer-is-deprecated\nC:\\Alex_Work\\anaconda3\\lib\\site-packages\\ipykernel_launcher.py:52: DeprecationWarning: \n.ix is deprecated. Please use\n.loc for label based indexing or\n.iloc for positional indexing\n\nSee the documentation here:\nhttp://pandas.pydata.org/pandas-docs/stable/indexing.html#ix-indexer-is-deprecated\nC:\\Alex_Work\\anaconda3\\lib\\site-packages\\ipykernel_launcher.py:50: DeprecationWarning: \n.ix is deprecated. Please use\n.loc for label based indexing or\n.iloc for positional indexing\n\nSee the documentation here:\nhttp://pandas.pydata.org/pandas-docs/stable/indexing.html#ix-indexer-is-deprecated\n"
     ]
    }
   ],
   "source": [
    "\"\"\"\n",
    "计算每个月的趋势\n",
    "\"\"\"\n",
    "\n",
    "economic_df['cpi_trend']= 'up'\n",
    "economic_df['growth_trend']= 'down'\n",
    "month=4\n",
    "\n",
    "for  i in range(0, economic_df.__len__() - month):\n",
    "    if economic_df.iloc[i]['CPI当月同比']>economic_df.iloc[i + 1]['CPI当月同比'] and economic_df.iloc[i + 1]['CPI当月同比']>economic_df.iloc[i + 2]['CPI当月同比'] and \\\n",
    "        economic_df.iloc[i + 2]['CPI当月同比'] > economic_df.iloc[i + 3]['CPI当月同比'] :\n",
    "        economic_df.ix[i, 'cpi_trend']= 'down'\n",
    "        continue\n",
    "\n",
    "    if economic_df.iloc[i]['CPI当月同比']<economic_df.iloc[i + 1]['CPI当月同比'] and economic_df.iloc[i + 1]['CPI当月同比']<economic_df.iloc[i + 2]['CPI当月同比'] and \\\n",
    "        economic_df.iloc[i + 2]['CPI当月同比'] < economic_df.iloc[i + 3]['CPI当月同比'] :\n",
    "        economic_df.ix[i, 'cpi_trend']= 'up'\n",
    "        continue\n",
    "\n",
    "    if economic_df.iloc[i]['CPI当月同比']>max(economic_df.iloc[i + 1]['CPI当月同比'], economic_df.iloc[i + 2]['CPI当月同比'] , economic_df.iloc[i + 3]['CPI当月同比']) \\\n",
    "        and economic_df.iloc[i + month]['CPI当月同比']<min(economic_df.iloc[i + 1]['CPI当月同比'], economic_df.iloc[i + 2]['CPI当月同比'] , economic_df.iloc[i + 3]['CPI当月同比']):\n",
    "        economic_df.ix[i, 'cpi_trend']= 'down'\n",
    "        continue\n",
    "\n",
    "    if economic_df.iloc[i]['CPI当月同比'] < min(economic_df.iloc[i + 1]['CPI当月同比'], economic_df.iloc[i + 2]['CPI当月同比'], economic_df.iloc[i + 3]['CPI当月同比']) \\\n",
    "            and economic_df.iloc[i + month]['CPI当月同比'] > max(economic_df.iloc[i + 1]['CPI当月同比'], economic_df.iloc[i + 2]['CPI当月同比'], economic_df.iloc[i + 3]['CPI当月同比']):\n",
    "        economic_df.ix[i, 'cpi_trend'] = 'up'\n",
    "        continue\n",
    "    economic_df.ix[i, 'cpi_trend']=economic_df.iloc[i - 1]['cpi_trend']\n",
    "\n",
    "for  i in range(0, economic_df.__len__() - month):\n",
    "    if economic_df.iloc[i]['宏观经济景气指数一致指数']>economic_df.iloc[i + 1]['宏观经济景气指数一致指数'] and economic_df.iloc[i + 1]['宏观经济景气指数一致指数']>economic_df.iloc[i + 2]['宏观经济景气指数一致指数'] and \\\n",
    "        economic_df.iloc[i + 2]['宏观经济景气指数一致指数'] > economic_df.iloc[i + 3]['宏观经济景气指数一致指数'] :\n",
    "        economic_df.ix[i, 'growth_trend']= 'down'\n",
    "        continue\n",
    "\n",
    "    if economic_df.iloc[i]['宏观经济景气指数一致指数']<economic_df.iloc[i + 1]['宏观经济景气指数一致指数'] and economic_df.iloc[i + 1]['宏观经济景气指数一致指数']<economic_df.iloc[i + 2]['宏观经济景气指数一致指数'] and \\\n",
    "        economic_df.iloc[i + 2]['宏观经济景气指数一致指数'] < economic_df.iloc[i + 3]['宏观经济景气指数一致指数'] :\n",
    "        economic_df.ix[i, 'growth_trend']= 'up'\n",
    "        continue\n",
    "\n",
    "    if economic_df.iloc[i]['宏观经济景气指数一致指数']>max(economic_df.iloc[i + 1]['宏观经济景气指数一致指数'], economic_df.iloc[i + 2]['宏观经济景气指数一致指数'] , economic_df.iloc[i + 3]['宏观经济景气指数一致指数']) \\\n",
    "        and economic_df.iloc[i + month]['宏观经济景气指数一致指数']<min(economic_df.iloc[i + 1]['宏观经济景气指数一致指数'], economic_df.iloc[i + 2]['宏观经济景气指数一致指数'] , economic_df.iloc[i + 3]['宏观经济景气指数一致指数']):\n",
    "        economic_df.ix[i, 'growth_trend']= 'down'\n",
    "        continue\n",
    "\n",
    "    if economic_df.iloc[i]['宏观经济景气指数一致指数'] < min(economic_df.iloc[i + 1]['宏观经济景气指数一致指数'], economic_df.iloc[i + 2]['宏观经济景气指数一致指数'], economic_df.iloc[i + 3]['宏观经济景气指数一致指数']) \\\n",
    "            and economic_df.iloc[i + month]['宏观经济景气指数一致指数'] > max(economic_df.iloc[i + 1]['宏观经济景气指数一致指数'], economic_df.iloc[i + 2]['宏观经济景气指数一致指数'], economic_df.iloc[i + 3]['宏观经济景气指数一致指数']):\n",
    "        economic_df.ix[i, 'growth_trend'] = 'up'\n",
    "        continue\n",
    "    economic_df.ix[i, 'growth_trend']=economic_df.iloc[i - 1]['growth_trend']\n",
    "\n",
    "economic_df['trend']= ''\n",
    "\n",
    "for  i in range(0, economic_df.__len__() - month):\n",
    "    if economic_df.ix[i, 'growth_trend']== 'up':\n",
    "        if economic_df.ix[i, 'cpi_trend']== 'up':\n",
    "            economic_df.ix[i, 'trend']= '过热'\n",
    "        else:\n",
    "            economic_df.ix[i, 'trend'] = '复苏'\n",
    "    else:\n",
    "        if economic_df.ix[i, 'cpi_trend']== 'up':\n",
    "            economic_df.ix[i, 'trend']= '滞涨'\n",
    "        else:\n",
    "            economic_df.ix[i, 'trend'] = '衰退'\n",
    "\n",
    "#economic_df[['cpi_trend','growth_trend','trend']].to_csv('./model1/trends.csv',encoding='utf-8-sig')"
   ]
  },
  {
   "cell_type": "code",
   "execution_count": 5,
   "metadata": {
    "collapsed": true
   },
   "outputs": [
    {
     "name": "stderr",
     "output_type": "stream",
     "text": [
      "C:\\Alex_Work\\anaconda3\\lib\\site-packages\\ipykernel_launcher.py:9: DeprecationWarning: \n.ix is deprecated. Please use\n.loc for label based indexing or\n.iloc for positional indexing\n\nSee the documentation here:\nhttp://pandas.pydata.org/pandas-docs/stable/indexing.html#ix-indexer-is-deprecated\n  if __name__ == '__main__':\nC:\\Alex_Work\\anaconda3\\lib\\site-packages\\ipykernel_launcher.py:14: DeprecationWarning: \n.ix is deprecated. Please use\n.loc for label based indexing or\n.iloc for positional indexing\n\nSee the documentation here:\nhttp://pandas.pydata.org/pandas-docs/stable/indexing.html#ix-indexer-is-deprecated\n  \nC:\\Alex_Work\\anaconda3\\lib\\site-packages\\ipykernel_launcher.py:18: DeprecationWarning: \n.ix is deprecated. Please use\n.loc for label based indexing or\n.iloc for positional indexing\n\nSee the documentation here:\nhttp://pandas.pydata.org/pandas-docs/stable/indexing.html#ix-indexer-is-deprecated\n"
     ]
    }
   ],
   "source": [
    "\"\"\"\n",
    "计算时钟周期\n",
    "\"\"\"\n",
    "df=economic_df[['cpi_trend','growth_trend','trend']]\n",
    "df=df[:'2017']\n",
    "periods=pd.DataFrame({'start': '', 'end': '', 'trend': ''}, index=[0])\n",
    "\n",
    "id=0\n",
    "temp_trend=df.ix[0,'trend']\n",
    "temp_start_time=df.index[0]\n",
    "temp_end_time=df.index[0]\n",
    "\n",
    "for i in range(df.__len__()):\n",
    "    if df.ix[i,'trend']!=temp_trend:\n",
    "        temp_end_time=df.index[i-1]\n",
    "        periods=periods.append(pd.DataFrame({'start':temp_start_time.date(), 'end':temp_end_time.date(), 'trend':temp_trend}, index=[i]))\n",
    "        temp_start_time = df.index[i]\n",
    "        temp_trend=df.ix[i,'trend']\n",
    "temp_end_time = df.index[ - 1]\n",
    "periods = periods.append(\n",
    "    pd.DataFrame({'start': temp_start_time.date(), 'end': temp_end_time.date(), 'trend': temp_trend}, index=[i]))\n",
    "\n",
    "periods.index=pd.Series(list(range(periods.__len__())))\n",
    "periods.index.name='id'\n",
    "periods.drop(index=0,inplace=True)\n",
    "\n",
    "#periods.to_csv('./model1/periods.csv',encoding='utf-8-sig')\n"
   ]
  },
  {
   "cell_type": "code",
   "execution_count": null,
   "metadata": {},
   "outputs": [],
   "source": [
    "\"\"\"计算收益排行\"\"\"\n"
   ]
  }
 ],
 "metadata": {
  "kernelspec": {
   "display_name": "Python 3",
   "language": "python",
   "name": "python3"
  },
  "language_info": {
   "codemirror_mode": {
    "name": "ipython",
    "version": 3
   },
   "file_extension": ".py",
   "mimetype": "text/x-python",
   "name": "python",
   "nbconvert_exporter": "python",
   "pygments_lexer": "ipython3",
   "version": "3.6.5"
  }
 },
 "nbformat": 4,
 "nbformat_minor": 1
}
