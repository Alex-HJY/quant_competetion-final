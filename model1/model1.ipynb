{
 "cells": [
  {
   "cell_type": "code",
   "execution_count": 96,
   "metadata": {},
   "outputs": [],
   "source": [
    "import numpy as np\n",
    "import pandas as pd\n",
    "import matplotlib.pyplot as plt\n",
    "from datetime import timedelta\n",
    "from dateutil import parser\n",
    "from datetime import datetime\n",
    "%matplotlib inline\n",
    "dir_name='model1'"
   ]
  },
  {
   "cell_type": "code",
   "execution_count": 101,
   "metadata": {},
   "outputs": [],
   "source": [
    "\"\"\"\n",
    "读取数据\n",
    "\"\"\"\n",
    "\n",
    "economic_df = pd.read_csv('C:\\Alex_Code\\quant_competetion-final\\data\\economic_indicator.csv', \n",
    "                          encoding='utf-8-sig', index_col='DateTime')\n",
    "economic_df.index=economic_df.index.map(lambda x:str(x)[:-3])\n",
    "economic_df.index = pd.DatetimeIndex(economic_df.index)\n",
    "index1='CPI当月同比'\n",
    "index2='克强指数'\n",
    "economic_df = economic_df[[index1, index2]]"
   ]
  },
  {
   "cell_type": "code",
   "execution_count": 107,
   "metadata": {
    "collapsed": true
   },
   "outputs": [
    {
     "name": "stderr",
     "output_type": "stream",
     "text": [
      "C:\\Alex_Work\\anaconda3\\lib\\site-packages\\ipykernel_launcher.py:25: DeprecationWarning: \n.ix is deprecated. Please use\n.loc for label based indexing or\n.iloc for positional indexing\n\nSee the documentation here:\nhttp://pandas.pydata.org/pandas-docs/stable/indexing.html#ix-indexer-is-deprecated\nC:\\Alex_Work\\anaconda3\\lib\\site-packages\\ipykernel_launcher.py:15: DeprecationWarning: \n.ix is deprecated. Please use\n.loc for label based indexing or\n.iloc for positional indexing\n\nSee the documentation here:\nhttp://pandas.pydata.org/pandas-docs/stable/indexing.html#ix-indexer-is-deprecated\n  from ipykernel import kernelapp as app\nC:\\Alex_Work\\anaconda3\\lib\\site-packages\\ipykernel_launcher.py:19: DeprecationWarning: \n.ix is deprecated. Please use\n.loc for label based indexing or\n.iloc for positional indexing\n\nSee the documentation here:\nhttp://pandas.pydata.org/pandas-docs/stable/indexing.html#ix-indexer-is-deprecated\nC:\\Alex_Work\\anaconda3\\lib\\site-packages\\ipykernel_launcher.py:23: DeprecationWarning: \n.ix is deprecated. Please use\n.loc for label based indexing or\n.iloc for positional indexing\n\nSee the documentation here:\nhttp://pandas.pydata.org/pandas-docs/stable/indexing.html#ix-indexer-is-deprecated\nC:\\Alex_Work\\anaconda3\\lib\\site-packages\\ipykernel_launcher.py:11: DeprecationWarning: \n.ix is deprecated. Please use\n.loc for label based indexing or\n.iloc for positional indexing\n\nSee the documentation here:\nhttp://pandas.pydata.org/pandas-docs/stable/indexing.html#ix-indexer-is-deprecated\n  # This is added back by InteractiveShellApp.init_path()\n"
     ]
    },
    {
     "name": "stderr",
     "output_type": "stream",
     "text": [
      "C:\\Alex_Work\\anaconda3\\lib\\site-packages\\ipykernel_launcher.py:43: DeprecationWarning: \n.ix is deprecated. Please use\n.loc for label based indexing or\n.iloc for positional indexing\n\nSee the documentation here:\nhttp://pandas.pydata.org/pandas-docs/stable/indexing.html#ix-indexer-is-deprecated\n"
     ]
    },
    {
     "name": "stderr",
     "output_type": "stream",
     "text": [
      "C:\\Alex_Work\\anaconda3\\lib\\site-packages\\ipykernel_launcher.py:33: DeprecationWarning: \n.ix is deprecated. Please use\n.loc for label based indexing or\n.iloc for positional indexing\n\nSee the documentation here:\nhttp://pandas.pydata.org/pandas-docs/stable/indexing.html#ix-indexer-is-deprecated\nC:\\Alex_Work\\anaconda3\\lib\\site-packages\\ipykernel_launcher.py:29: DeprecationWarning: \n.ix is deprecated. Please use\n.loc for label based indexing or\n.iloc for positional indexing\n\nSee the documentation here:\nhttp://pandas.pydata.org/pandas-docs/stable/indexing.html#ix-indexer-is-deprecated\nC:\\Alex_Work\\anaconda3\\lib\\site-packages\\ipykernel_launcher.py:37: DeprecationWarning: \n.ix is deprecated. Please use\n.loc for label based indexing or\n.iloc for positional indexing\n\nSee the documentation here:\nhttp://pandas.pydata.org/pandas-docs/stable/indexing.html#ix-indexer-is-deprecated\nC:\\Alex_Work\\anaconda3\\lib\\site-packages\\ipykernel_launcher.py:41: DeprecationWarning: \n.ix is deprecated. Please use\n.loc for label based indexing or\n.iloc for positional indexing\n\nSee the documentation here:\nhttp://pandas.pydata.org/pandas-docs/stable/indexing.html#ix-indexer-is-deprecated\n"
     ]
    },
    {
     "name": "stderr",
     "output_type": "stream",
     "text": [
      "C:\\Alex_Work\\anaconda3\\lib\\site-packages\\ipykernel_launcher.py:48: DeprecationWarning: \n.ix is deprecated. Please use\n.loc for label based indexing or\n.iloc for positional indexing\n\nSee the documentation here:\nhttp://pandas.pydata.org/pandas-docs/stable/indexing.html#ix-indexer-is-deprecated\nC:\\Alex_Work\\anaconda3\\lib\\site-packages\\ipykernel_launcher.py:54: DeprecationWarning: \n.ix is deprecated. Please use\n.loc for label based indexing or\n.iloc for positional indexing\n\nSee the documentation here:\nhttp://pandas.pydata.org/pandas-docs/stable/indexing.html#ix-indexer-is-deprecated\nC:\\Alex_Work\\anaconda3\\lib\\site-packages\\ipykernel_launcher.py:55: DeprecationWarning: \n.ix is deprecated. Please use\n.loc for label based indexing or\n.iloc for positional indexing\n\nSee the documentation here:\nhttp://pandas.pydata.org/pandas-docs/stable/indexing.html#ix-indexer-is-deprecated\nC:\\Alex_Work\\anaconda3\\lib\\site-packages\\ipykernel_launcher.py:57: DeprecationWarning: \n.ix is deprecated. Please use\n.loc for label based indexing or\n.iloc for positional indexing\n\nSee the documentation here:\nhttp://pandas.pydata.org/pandas-docs/stable/indexing.html#ix-indexer-is-deprecated\nC:\\Alex_Work\\anaconda3\\lib\\site-packages\\ipykernel_launcher.py:49: DeprecationWarning: \n.ix is deprecated. Please use\n.loc for label based indexing or\n.iloc for positional indexing\n\nSee the documentation here:\nhttp://pandas.pydata.org/pandas-docs/stable/indexing.html#ix-indexer-is-deprecated\nC:\\Alex_Work\\anaconda3\\lib\\site-packages\\ipykernel_launcher.py:50: DeprecationWarning: \n.ix is deprecated. Please use\n.loc for label based indexing or\n.iloc for positional indexing\n\nSee the documentation here:\nhttp://pandas.pydata.org/pandas-docs/stable/indexing.html#ix-indexer-is-deprecated\nC:\\Alex_Work\\anaconda3\\lib\\site-packages\\ipykernel_launcher.py:52: DeprecationWarning: \n.ix is deprecated. Please use\n.loc for label based indexing or\n.iloc for positional indexing\n\nSee the documentation here:\nhttp://pandas.pydata.org/pandas-docs/stable/indexing.html#ix-indexer-is-deprecated\n"
     ]
    }
   ],
   "source": [
    "\"\"\"\n",
    "计算每个月的趋势\n",
    "\"\"\"\n",
    "\n",
    "economic_df['cpi_trend'] = 'up'\n",
    "economic_df['growth_trend'] = 'down'\n",
    "month = 4\n",
    "\n",
    "for i in range(0, economic_df.__len__() - month):\n",
    "    if economic_df.iloc[i][index1] > economic_df.iloc[i + 1][index1] > economic_df.iloc[i + 2][index1] > \\\n",
    "            economic_df.iloc[i + 3][index1]:\n",
    "        economic_df.ix[i, 'cpi_trend'] = 'down'\n",
    "        continue\n",
    "\n",
    "    if economic_df.iloc[i][index1] < economic_df.iloc[i + 1][index1] < economic_df.iloc[i + 2][index1] < \\\n",
    "            economic_df.iloc[i + 3][index1]:\n",
    "        economic_df.ix[i, 'cpi_trend'] = 'up'\n",
    "        continue\n",
    "\n",
    "    if economic_df.iloc[i][index1] > max(economic_df.iloc[i + 1][index1], economic_df.iloc[i + 2][index1],\n",
    "                                         economic_df.iloc[i + 3][index1]) \\\n",
    "            and economic_df.iloc[i + month][index1] < min(economic_df.iloc[i + 1][index1],\n",
    "                                                          economic_df.iloc[i + 2][index1],\n",
    "                                                          economic_df.iloc[i + 3][index1]):\n",
    "        economic_df.ix[i, 'cpi_trend'] = 'down'\n",
    "        continue\n",
    "\n",
    "    if economic_df.iloc[i][index1] < min(economic_df.iloc[i + 1][index1], economic_df.iloc[i + 2][index1],\n",
    "                                         economic_df.iloc[i + 3][index1]) \\\n",
    "            and economic_df.iloc[i + month][index1] > max(economic_df.iloc[i + 1][index1],\n",
    "                                                          economic_df.iloc[i + 2][index1],\n",
    "                                                          economic_df.iloc[i + 3][index1]):\n",
    "        economic_df.ix[i, 'cpi_trend'] = 'up'\n",
    "        continue\n",
    "    economic_df.ix[i, 'cpi_trend'] = economic_df.iloc[i - 1]['cpi_trend']\n",
    "\n",
    "for i in range(0, economic_df.__len__() - month):\n",
    "    if economic_df.iloc[i][index2] > economic_df.iloc[i + 1][index2] > economic_df.iloc[i + 2][index2] > \\\n",
    "            economic_df.iloc[i + 3][index2]:\n",
    "        economic_df.ix[i, 'growth_trend'] = 'down'\n",
    "        continue\n",
    "\n",
    "    if economic_df.iloc[i][index2] < economic_df.iloc[i + 1][index2] < economic_df.iloc[i + 2][index2] < \\\n",
    "            economic_df.iloc[i + 3][index2]:\n",
    "        economic_df.ix[i, 'growth_trend'] = 'up'\n",
    "        continue\n",
    "\n",
    "    if economic_df.iloc[i][index2] > max(economic_df.iloc[i + 1][index2], economic_df.iloc[i + 2][index2],\n",
    "                                         economic_df.iloc[i + 3][index2]) \\\n",
    "            and economic_df.iloc[i + month][index2] < min(economic_df.iloc[i + 1][index2],\n",
    "                                                          economic_df.iloc[i + 2][index2],\n",
    "                                                          economic_df.iloc[i + 3][index2]):\n",
    "        economic_df.ix[i, 'growth_trend'] = 'down'\n",
    "        continue\n",
    "\n",
    "    if economic_df.iloc[i][index2] < min(economic_df.iloc[i + 1][index2], economic_df.iloc[i + 2][index2],\n",
    "                                         economic_df.iloc[i + 3][index2]) \\\n",
    "            and economic_df.iloc[i + month][index2] > max(economic_df.iloc[i + 1][index2],\n",
    "                                                          economic_df.iloc[i + 2][index2],\n",
    "                                                          economic_df.iloc[i + 3][index2]):\n",
    "        economic_df.ix[i, 'growth_trend'] = 'up'\n",
    "        continue\n",
    "    economic_df.ix[i, 'growth_trend'] = economic_df.iloc[i - 1]['growth_trend']\n",
    "\n",
    "economic_df['trend'] = ''\n",
    "\n",
    "for i in range(0, economic_df.__len__() - month):\n",
    "    if economic_df.ix[i, 'growth_trend'] == 'up':\n",
    "        if economic_df.ix[i, 'cpi_trend'] == 'up':\n",
    "            economic_df.ix[i, 'trend'] = '过热'\n",
    "        else:\n",
    "            economic_df.ix[i, 'trend'] = '复苏'\n",
    "    else:\n",
    "        if economic_df.ix[i, 'cpi_trend'] == 'up':\n",
    "            economic_df.ix[i, 'trend'] = '滞涨'\n",
    "        else:\n",
    "            economic_df.ix[i, 'trend'] = '衰退'\n",
    "\n",
    "economic_df[['cpi_trend', 'growth_trend', 'trend']].to_csv('./' + dir_name + '/trends.csv', encoding='utf-8-sig')\n"
   ]
  },
  {
   "cell_type": "code",
   "execution_count": 108,
   "metadata": {
    "collapsed": true
   },
   "outputs": [
    {
     "name": "stderr",
     "output_type": "stream",
     "text": [
      "C:\\Alex_Work\\anaconda3\\lib\\site-packages\\ipykernel_launcher.py:9: DeprecationWarning: \n.ix is deprecated. Please use\n.loc for label based indexing or\n.iloc for positional indexing\n\nSee the documentation here:\nhttp://pandas.pydata.org/pandas-docs/stable/indexing.html#ix-indexer-is-deprecated\n  if __name__ == '__main__':\nC:\\Alex_Work\\anaconda3\\lib\\site-packages\\ipykernel_launcher.py:14: DeprecationWarning: \n.ix is deprecated. Please use\n.loc for label based indexing or\n.iloc for positional indexing\n\nSee the documentation here:\nhttp://pandas.pydata.org/pandas-docs/stable/indexing.html#ix-indexer-is-deprecated\n  \nC:\\Alex_Work\\anaconda3\\lib\\site-packages\\ipykernel_launcher.py:18: DeprecationWarning: \n.ix is deprecated. Please use\n.loc for label based indexing or\n.iloc for positional indexing\n\nSee the documentation here:\nhttp://pandas.pydata.org/pandas-docs/stable/indexing.html#ix-indexer-is-deprecated\n"
     ]
    }
   ],
   "source": [
    "\"\"\"\n",
    "计算时钟周期\n",
    "\"\"\"\n",
    "df=economic_df[['cpi_trend','growth_trend','trend']]\n",
    "df=df['2010':'2017']\n",
    "periods=pd.DataFrame({'start': '', 'end': '', 'trend': ''}, index=[0])\n",
    "\n",
    "id=0\n",
    "temp_trend=df.ix[0,'trend']\n",
    "temp_start_time=df.index[0]\n",
    "temp_end_time=df.index[0]\n",
    "\n",
    "for i in range(df.__len__()):\n",
    "    if df.ix[i,'trend']!=temp_trend:\n",
    "        temp_end_time=df.index[i-1]\n",
    "        periods=periods.append(pd.DataFrame({'start':temp_start_time.date(), 'end':temp_end_time.date(), 'trend':temp_trend}, index=[i]))\n",
    "        temp_start_time = df.index[i]\n",
    "        temp_trend=df.ix[i,'trend']\n",
    "temp_end_time = df.index[ - 1]\n",
    "periods = periods.append(\n",
    "    pd.DataFrame({'start': temp_start_time.date(), 'end': temp_end_time.date(), 'trend': temp_trend}, index=[i]))\n",
    "\n",
    "periods.index=pd.Series(list(range(periods.__len__())))\n",
    "periods.index.name='id'\n",
    "periods.drop(index=0,inplace=True)\n",
    "from dateutil.relativedelta import relativedelta\n",
    "periods['end'] = periods['end'].map(lambda  x:(x+relativedelta(months=1)-relativedelta(days=x.day)))\n",
    "\n",
    "periods.to_csv('./'+dir_name+'/periods-2010.csv',encoding='utf-8-sig')\n"
   ]
  },
  {
   "cell_type": "code",
   "execution_count": 10,
   "metadata": {},
   "outputs": [],
   "source": [
    "\"\"\"\n",
    "计算收益排行\n",
    "\"\"\"\n",
    "from WindPy import *\n",
    "def get_wind_data(start, end):\n",
    "    df=w.wss(\"801011.SI,801012.SI,801013.SI,801014.SI,801015.SI,801016.SI,801017.SI,801018.SI,801021.SI,801022.SI,801023.SI,801024.SI,801032.SI,801033.SI,801034.SI,801035.SI,801036.SI,801037.SI,801041.SI,801051.SI,801053.SI,801054.SI,801055.SI,801072.SI,801073.SI,801074.SI,801075.SI,801076.SI,801081.SI,801082.SI,801083.SI,801084.SI,801085.SI,801092.SI,801093.SI,801094.SI,801101.SI,801102.SI,801111.SI,801112.SI,801123.SI,801124.SI,801131.SI,801132.SI,801141.SI,801142.SI,801143.SI,801151.SI,801152.SI,801153.SI,801154.SI,801155.SI,801156.SI,801161.SI,801162.SI,801163.SI,801164.SI,801171.SI,801172.SI,801173.SI,801174.SI,801175.SI,801176.SI,801177.SI,801178.SI,801181.SI,801182.SI,801191.SI,801192.SI,801193.SI,801194.SI,801202.SI,801203.SI,801204.SI,801205.SI,801211.SI,801212.SI,801213.SI,801214.SI,801215.SI,801222.SI,801223.SI,801231.SI,801711.SI,801712.SI,801713.SI,801721.SI,801722.SI,801723.SI,801724.SI,801725.SI,801731.SI,801732.SI,801733.SI,801734.SI,801741.SI,801742.SI,801743.SI,801744.SI,801751.SI,801752.SI,801761.SI,801881.SI\",\n",
    "             \"pct_chg_per,sec_name\",\"startDate=\"+start+\";endDate=\"+end,usedf=True)[1]\n",
    "    df=df.set_index('SEC_NAME')\n",
    "    df.columns=[start+'-'+end]\n",
    "    df.index.name='code'\n",
    "    return df"
   ]
  },
  {
   "cell_type": "code",
   "execution_count": 23,
   "metadata": {},
   "outputs": [],
   "source": [
    "def get_paiming(df=pd.DataFrame([]),trend=''):\n",
    "    number_of_time = df.__len__()\n",
    "    dff=pd.DataFrame()\n",
    "    for i in range(number_of_time):\n",
    "        start_time = df.iloc[i]['start']\n",
    "        end_time = df.iloc[i]['end']\n",
    "        dff=dff.join(get_wind_data(start_time,end_time),how='right')\n",
    "\n",
    "    df.dropna(inplace=True)\n",
    "    # dff = dff[dff.index.map(int) > 2000012551000000]\n",
    "    dff.to_csv('./'+dir_name+'/'+trend+'.csv',encoding='utf-8-sig')\n",
    "    return []"
   ]
  },
  {
   "cell_type": "code",
   "execution_count": 104,
   "metadata": {
    "collapsed": true
   },
   "outputs": [
    {
     "name": "stdout",
     "output_type": "stream",
     "text": [
      "Welcome to use Wind Quant API for Python (WindPy)!\n\nCOPYRIGHT (C) 2017 WIND INFORMATION CO., LTD. ALL RIGHTS RESERVED.\nIN NO CIRCUMSTANCE SHALL WIND BE RESPONSIBLE FOR ANY DAMAGES OR LOSSES CAUSED BY USING WIND QUANT API FOR Python.\n"
     ]
    },
    {
     "name": "stderr",
     "output_type": "stream",
     "text": [
      "C:\\Alex_Work\\anaconda3\\lib\\site-packages\\ipykernel_launcher.py:9: SettingWithCopyWarning: \nA value is trying to be set on a copy of a slice from a DataFrame\n\nSee the caveats in the documentation: http://pandas.pydata.org/pandas-docs/stable/indexing.html#indexing-view-versus-copy\n  if __name__ == '__main__':\n"
     ]
    }
   ],
   "source": [
    "w.start()\n",
    "ZHOUQI = ['复苏', '过热', '滞涨', '衰退']\n",
    "rank = periods\n",
    "rank = rank.sort_values('trend')\n",
    "# rank['start']=rank['start'].map(str)\n",
    "# rank['end']=rank['end'].map(str)\n",
    "# rank['start']=rank['start'].map(parser.parse)\n",
    "# rank['end']=rank['end'].map(parser.parse)\n",
    "rank['start'] = rank['start'].map(lambda  x:x.strftime('%Y%m%d'))\n",
    "rank['end'] = rank['end'].map(lambda  x:x.strftime('%Y%m%d'))\n",
    "for trend in ZHOUQI:\n",
    "    get_paiming(rank[rank['trend'] ==trend],trend)\n",
    "w.close()"
   ]
  },
  {
   "cell_type": "code",
   "execution_count": 161,
   "metadata": {},
   "outputs": [],
   "source": [
    "\"\"\"\n",
    "按照收益率综合排序\n",
    "\"\"\"\n",
    "ZHOUQI = [['复苏'], ['过热'], ['滞涨'], ['衰退']]\n",
    "ZHOUQI = np.array(ZHOUQI)\n",
    "\n",
    "for line in ZHOUQI:\n",
    "    trend = line[0]\n",
    "\n",
    "    df = pd.read_csv('./'+dir_name+'/'+str(trend)+'.csv', encoding='utf-8-sig',index_col='code',engine='python')\n",
    "    df['total_return_rate'] = 0\n",
    "    df=df.dropna()\n",
    "    for i in range(df.__len__()):\n",
    "        df['total_return_rate'].iloc[i] = df.iloc[i,1:].values.sum()\n",
    "    df=df.sort_values('total_return_rate',ascending=False)\n",
    "    df=df[df.columns.sort_values()]\n",
    "    df.to_csv('./'+dir_name+'/'+str(trend)+'_sort.csv',encoding='utf-8-sig')\n"
   ]
  },
  {
   "cell_type": "code",
   "execution_count": 160,
   "metadata": {},
   "outputs": [],
   "source": [
    "\"\"\"\n",
    "按照收益排名排序\n",
    "\"\"\"\n",
    "ZHOUQI = [['复苏'], ['过热'], ['滞涨'], ['衰退']]\n",
    "ZHOUQI = np.array(ZHOUQI)\n",
    "\n",
    "for line in ZHOUQI:\n",
    "    trend = line[0]\n",
    "    df = pd.read_csv('./'+dir_name+'/'+str(trend)+'.csv', encoding='utf-8-sig',index_col='code',engine='python')\n",
    "    df['total_return_rate'] = 0\n",
    "    df.dropna(inplace=True)\n",
    "    df['rank']=0\n",
    "    for i in df.columns:\n",
    "        if i in ('rank','total_return_rate'):\n",
    "            continue\n",
    "        df=df.sort_values(i,ascending=False)\n",
    "        df[i+'_rank']=df.reset_index().index\n",
    "        df['rank']+=df[i+'_rank']\n",
    "    df=df.sort_values('rank')\n",
    "    df.to_csv('./'+dir_name+'/'+str(trend)+'_sort.csv',encoding='utf-8-sig')\n"
   ]
  },
  {
   "cell_type": "code",
   "execution_count": 138,
   "metadata": {},
   "outputs": [],
   "source": [
    "def trade_model1(df_to_today, today, money, cash, portfolio):\n",
    "    df_to_today.loc[today]\n",
    "    df = pd.read_csv('./'+dir_name+'/trends.csv', encoding='utf-8-sig', index_col='DateTime')\n",
    "    df.index = df.index.map(lambda x: x[:-3])\n",
    "    trend = df.loc[today.strftime('%Y') + '-' + today.strftime('%m')]['trend']\n",
    "\n",
    "    df = pd.read_csv('./'+dir_name+'/' + trend + '_sort.csv', encoding='utf-8-sig', engine='python',\n",
    "                     index_col='code')\n",
    "    targets = [df.index[0], df.index[1]]\n",
    "    df = pd.read_csv('./data/code_to_name.csv', engine='python', encoding='utf-8-sig', index_col='SEC_NAME')\n",
    "\n",
    "    for obj, share in portfolio.items():\n",
    "        cash += df_to_today[df.loc[obj]['code']][-1] * share\n",
    "\n",
    "    portfolio = {}\n",
    "\n",
    "    cash_share = (cash / targets.__len__())\n",
    "    for target in targets:\n",
    "\n",
    "        if pd.notna(df_to_today[df.loc[target]['code']][-1]):\n",
    "            portfolio[target] = cash_share / df_to_today[df.loc[target]['code']][-1]\n",
    "            cash -= cash_share\n",
    "\n",
    "    money = cash\n",
    "\n",
    "    for key, value in portfolio.items():\n",
    "        money += df_to_today[df.loc[key]['code']][-1] * value\n",
    "\n",
    "    # print(today, money, cash, portfolio)\n",
    "    return money, cash, portfolio\n"
   ]
  },
  {
   "cell_type": "code",
   "execution_count": 164,
   "metadata": {},
   "outputs": [],
   "source": [
    "def trade_model1(df_to_today, today, money, cash, portfolio):\n",
    "    df_to_today.loc[today]\n",
    "    df = pd.read_csv('./'+dir_name+'/trends.csv', encoding='utf-8-sig', index_col='DateTime')\n",
    "    df.index = df.index.map(lambda x: x[:-3])\n",
    "    trend = df.loc[today.strftime('%Y')+'-'+today.strftime('%m')]['trend']\n",
    "\n",
    "    df = pd.read_csv('./'+ dir_name+'/' + trend + '_sort.csv', encoding='utf-8-sig', engine='python',\n",
    "                     index_col='code')\n",
    "    targets = [df.index[0], df.index[1]]\n",
    "    df=pd.read_csv('./data/code_to_name.csv',engine='python',encoding='utf-8-sig',index_col='SEC_NAME')\n",
    "\n",
    "    for obj,share in portfolio.items():\n",
    "        cash+=df_to_today[df.loc[obj]['code']][-1]*share\n",
    "\n",
    "    portfolio={}\n",
    "\n",
    "    cash_share=(cash / targets.__len__())\n",
    "    for target in targets:\n",
    "\n",
    "        if pd.notna(df_to_today[df.loc[target]['code']][-1]):\n",
    "            portfolio[target]=cash_share/df_to_today[df.loc[target]['code']][-1]\n",
    "            cash-=cash_share\n",
    "\n",
    "    money=cash\n",
    "\n",
    "    for key,value in portfolio.items():\n",
    "        money+=df_to_today[df.loc[key]['code']][-1]*value\n",
    "\n",
    "    # print(today, money, cash, portfolio)\n",
    "    return money, cash, portfolio"
   ]
  },
  {
   "cell_type": "code",
   "execution_count": 165,
   "metadata": {},
   "outputs": [],
   "source": [
    "import back_test"
   ]
  },
  {
   "cell_type": "code",
   "execution_count": 166,
   "metadata": {},
   "outputs": [
    {
     "name": "stdout",
     "output_type": "stream",
     "text": [
      "             hs300_money               hs300_portfolio  hs300_cash\n2010-01-04  1.000000e+06  {'hs300': 282.8671070530367}           0\n2010-01-05  1.008149e+06  {'hs300': 282.8671070530367}           0\n2010-01-06  1.001838e+06  {'hs300': 282.8671070530367}           0\n2010-01-07  9.819607e+05  {'hs300': 282.8671070530367}           0\n2010-01-08  9.844143e+05  {'hs300': 282.8671070530367}           0\n2010-01-11  9.849580e+05  {'hs300': 282.8671070530367}           0\n2010-01-12  9.999115e+05  {'hs300': 282.8671070530367}           0\n2010-01-13  9.677291e+05  {'hs300': 282.8671070530367}           0\n2010-01-14  9.812804e+05  {'hs300': 282.8671070530367}           0\n2010-01-15  9.851520e+05  {'hs300': 282.8671070530367}           0\n2010-01-18  9.902284e+05  {'hs300': 282.8671070530367}           0\n2010-01-19  9.921513e+05  {'hs300': 282.8671070530367}           0\n2010-01-20  9.601737e+05  {'hs300': 282.8671070530367}           0\n2010-01-21  9.641735e+05  {'hs300': 282.8671070530367}           0\n2010-01-22  9.521864e+05  {'hs300': 282.8671070530367}           0\n2010-01-25  9.413857e+05  {'hs300': 282.8671070530367}           0\n2010-01-26  9.172806e+05  {'hs300': 282.8671070530367}           0\n2010-01-27  9.047691e+05  {'hs300': 282.8671070530367}           0\n2010-01-28  9.070332e+05  {'hs300': 282.8671070530367}           0\n2010-01-29  9.063501e+05  {'hs300': 282.8671070530367}           0\n2010-02-01  8.917971e+05  {'hs300': 282.8671070530367}           0\n2010-02-02  8.899534e+05  {'hs300': 282.8671070530367}           0\n2010-02-03  9.138630e+05  {'hs300': 282.8671070530367}           0\n2010-02-04  9.104932e+05  {'hs300': 282.8671070530367}           0\n2010-02-05  8.919046e+05  {'hs300': 282.8671070530367}           0\n2010-02-08  8.913109e+05  {'hs300': 282.8671070530367}           0\n2010-02-09  8.964596e+05  {'hs300': 282.8671070530367}           0\n2010-02-10  9.091717e+05  {'hs300': 282.8671070530367}           0\n2010-02-11  9.109447e+05  {'hs300': 282.8671070530367}           0\n2010-02-12  9.196796e+05  {'hs300': 282.8671070530367}           0\n...                  ...                           ...         ...\n2017-11-20  1.172154e+06  {'hs300': 282.8671070530367}           0\n2017-11-21  1.193049e+06  {'hs300': 282.8671070530367}           0\n2017-11-22  1.195840e+06  {'hs300': 282.8671070530367}           0\n2017-11-23  1.160433e+06  {'hs300': 282.8671070530367}           0\n2017-11-24  1.160944e+06  {'hs300': 282.8671070530367}           0\n2017-11-27  1.145597e+06  {'hs300': 282.8671070530367}           0\n2017-11-28  1.147259e+06  {'hs300': 282.8671070530367}           0\n2017-11-29  1.146673e+06  {'hs300': 282.8671070530367}           0\n2017-11-30  1.133194e+06  {'hs300': 282.8671070530367}           0\n2017-12-01  1.130941e+06  {'hs300': 282.8671070530367}           0\n2017-12-04  1.136802e+06  {'hs300': 282.8671070530367}           0\n2017-12-05  1.142831e+06  {'hs300': 282.8671070530367}           0\n2017-12-06  1.135944e+06  {'hs300': 282.8671070530367}           0\n2017-12-07  1.123281e+06  {'hs300': 282.8671070530367}           0\n2017-12-08  1.132424e+06  {'hs300': 282.8671070530367}           0\n2017-12-11  1.151128e+06  {'hs300': 282.8671070530367}           0\n2017-12-12  1.135999e+06  {'hs300': 282.8671070530367}           0\n2017-12-13  1.145638e+06  {'hs300': 282.8671070530367}           0\n2017-12-14  1.138866e+06  {'hs300': 282.8671070530367}           0\n2017-12-15  1.126053e+06  {'hs300': 282.8671070530367}           0\n2017-12-18  1.127308e+06  {'hs300': 282.8671070530367}           0\n2017-12-19  1.141462e+06  {'hs300': 282.8671070530367}           0\n2017-12-20  1.140093e+06  {'hs300': 282.8671070530367}           0\n2017-12-21  1.150661e+06  {'hs300': 282.8671070530367}           0\n2017-12-22  1.146913e+06  {'hs300': 282.8671070530367}           0\n2017-12-25  1.143219e+06  {'hs300': 282.8671070530367}           0\n2017-12-26  1.146636e+06  {'hs300': 282.8671070530367}           0\n2017-12-27  1.128981e+06  {'hs300': 282.8671070530367}           0\n2017-12-28  1.136814e+06  {'hs300': 282.8671070530367}           0\n2017-12-29  1.140196e+06  {'hs300': 282.8671070530367}           0\n\n[1944 rows x 3 columns]\n"
     ]
    },
    {
     "ename": "FileNotFoundError",
     "evalue": "[Errno 2] No such file or directory: './back_test/lundong.csv'",
     "traceback": [
      "\u001b[1;31m---------------------------------------------------------------------------\u001b[0m",
      "\u001b[1;31mFileNotFoundError\u001b[0m                         Traceback (most recent call last)",
      "\u001b[1;32m<ipython-input-166-3bf8f4cc0d6c>\u001b[0m in \u001b[0;36m<module>\u001b[1;34m()\u001b[0m\n\u001b[0;32m      2\u001b[0m \u001b[0mclose_df\u001b[0m\u001b[1;33m.\u001b[0m\u001b[0mindex\u001b[0m\u001b[1;33m=\u001b[0m\u001b[0mpd\u001b[0m\u001b[1;33m.\u001b[0m\u001b[0mDatetimeIndex\u001b[0m\u001b[1;33m(\u001b[0m\u001b[0mclose_df\u001b[0m\u001b[1;33m.\u001b[0m\u001b[0mindex\u001b[0m\u001b[1;33m)\u001b[0m\u001b[1;33m\u001b[0m\u001b[0m\n\u001b[0;32m      3\u001b[0m \u001b[0mbacktest1\u001b[0m \u001b[1;33m=\u001b[0m \u001b[0mback_test\u001b[0m\u001b[1;33m.\u001b[0m\u001b[0mback_test_system\u001b[0m\u001b[1;33m(\u001b[0m\u001b[0mclose_df\u001b[0m\u001b[1;33m,\u001b[0m \u001b[1;34m'hs300'\u001b[0m\u001b[1;33m,\u001b[0m \u001b[0msave_dir\u001b[0m\u001b[1;33m=\u001b[0m\u001b[1;34m'./back_test/'\u001b[0m\u001b[1;33m)\u001b[0m\u001b[1;33m\u001b[0m\u001b[0m\n\u001b[1;32m----> 4\u001b[1;33m \u001b[0mdf\u001b[0m\u001b[1;33m=\u001b[0m\u001b[0mbacktest1\u001b[0m\u001b[1;33m.\u001b[0m\u001b[0mback_test_by_day\u001b[0m\u001b[1;33m(\u001b[0m\u001b[1;34m'lundong'\u001b[0m\u001b[1;33m,\u001b[0m\u001b[0mtrade_model1\u001b[0m\u001b[1;33m,\u001b[0m\u001b[1;34m'20100101'\u001b[0m\u001b[1;33m,\u001b[0m\u001b[1;34m'20171231'\u001b[0m\u001b[1;33m)\u001b[0m\u001b[1;33m\u001b[0m\u001b[0m\n\u001b[0m",
      "\u001b[1;32mC:\\Alex_Code\\quant_competetion-final\\back_test.py\u001b[0m in \u001b[0;36mback_test_by_day\u001b[1;34m(self, strategy_name, trade_func, start_date, end_date)\u001b[0m\n\u001b[0;32m    102\u001b[0m         \u001b[0mself\u001b[0m\u001b[1;33m.\u001b[0m\u001b[0mresult\u001b[0m \u001b[1;33m=\u001b[0m \u001b[0mresult\u001b[0m\u001b[1;33m\u001b[0m\u001b[0m\n\u001b[0;32m    103\u001b[0m         \u001b[1;32mreturn\u001b[0m \u001b[0mresult\u001b[0m\u001b[1;33m\u001b[0m\u001b[0m\n\u001b[1;32m--> 104\u001b[1;33m \u001b[1;33m\u001b[0m\u001b[0m\n\u001b[0m\u001b[0;32m    105\u001b[0m     \u001b[1;32mdef\u001b[0m \u001b[0mshow\u001b[0m\u001b[1;33m(\u001b[0m\u001b[0mself\u001b[0m\u001b[1;33m,\u001b[0m \u001b[0mdf\u001b[0m\u001b[1;33m,\u001b[0m \u001b[0mstrategies_name\u001b[0m\u001b[1;33m=\u001b[0m\u001b[1;33m[\u001b[0m\u001b[1;33m]\u001b[0m\u001b[1;33m)\u001b[0m\u001b[1;33m:\u001b[0m\u001b[1;33m\u001b[0m\u001b[0m\n\u001b[0;32m    106\u001b[0m         \"\"\"\n",
      "\u001b[1;32mC:\\Alex_Work\\anaconda3\\lib\\site-packages\\pandas\\core\\frame.py\u001b[0m in \u001b[0;36mto_csv\u001b[1;34m(self, path_or_buf, sep, na_rep, float_format, columns, header, index, index_label, mode, encoding, compression, quoting, quotechar, line_terminator, chunksize, tupleize_cols, date_format, doublequote, escapechar, decimal)\u001b[0m\n\u001b[0;32m   1743\u001b[0m                                  \u001b[0mdoublequote\u001b[0m\u001b[1;33m=\u001b[0m\u001b[0mdoublequote\u001b[0m\u001b[1;33m,\u001b[0m\u001b[1;33m\u001b[0m\u001b[0m\n\u001b[0;32m   1744\u001b[0m                                  escapechar=escapechar, decimal=decimal)\n\u001b[1;32m-> 1745\u001b[1;33m         \u001b[0mformatter\u001b[0m\u001b[1;33m.\u001b[0m\u001b[0msave\u001b[0m\u001b[1;33m(\u001b[0m\u001b[1;33m)\u001b[0m\u001b[1;33m\u001b[0m\u001b[0m\n\u001b[0m\u001b[0;32m   1746\u001b[0m \u001b[1;33m\u001b[0m\u001b[0m\n\u001b[0;32m   1747\u001b[0m         \u001b[1;32mif\u001b[0m \u001b[0mpath_or_buf\u001b[0m \u001b[1;32mis\u001b[0m \u001b[1;32mNone\u001b[0m\u001b[1;33m:\u001b[0m\u001b[1;33m\u001b[0m\u001b[0m\n",
      "\u001b[1;32mC:\\Alex_Work\\anaconda3\\lib\\site-packages\\pandas\\io\\formats\\csvs.py\u001b[0m in \u001b[0;36msave\u001b[1;34m(self)\u001b[0m\n\u001b[0;32m    134\u001b[0m             f, handles = _get_handle(self.path_or_buf, self.mode,\n\u001b[0;32m    135\u001b[0m                                      \u001b[0mencoding\u001b[0m\u001b[1;33m=\u001b[0m\u001b[0mencoding\u001b[0m\u001b[1;33m,\u001b[0m\u001b[1;33m\u001b[0m\u001b[0m\n\u001b[1;32m--> 136\u001b[1;33m                                      compression=None)\n\u001b[0m\u001b[0;32m    137\u001b[0m             \u001b[0mclose\u001b[0m \u001b[1;33m=\u001b[0m \u001b[1;32mTrue\u001b[0m \u001b[1;32mif\u001b[0m \u001b[0mself\u001b[0m\u001b[1;33m.\u001b[0m\u001b[0mcompression\u001b[0m \u001b[1;32mis\u001b[0m \u001b[1;32mNone\u001b[0m \u001b[1;32melse\u001b[0m \u001b[1;32mFalse\u001b[0m\u001b[1;33m\u001b[0m\u001b[0m\n\u001b[0;32m    138\u001b[0m \u001b[1;33m\u001b[0m\u001b[0m\n",
      "\u001b[1;32mC:\\Alex_Work\\anaconda3\\lib\\site-packages\\pandas\\io\\common.py\u001b[0m in \u001b[0;36m_get_handle\u001b[1;34m(path_or_buf, mode, encoding, compression, memory_map, is_text)\u001b[0m\n\u001b[0;32m    398\u001b[0m         \u001b[1;32melif\u001b[0m \u001b[0mencoding\u001b[0m\u001b[1;33m:\u001b[0m\u001b[1;33m\u001b[0m\u001b[0m\n\u001b[0;32m    399\u001b[0m             \u001b[1;31m# Python 3 and encoding\u001b[0m\u001b[1;33m\u001b[0m\u001b[1;33m\u001b[0m\u001b[0m\n\u001b[1;32m--> 400\u001b[1;33m             \u001b[0mf\u001b[0m \u001b[1;33m=\u001b[0m \u001b[0mopen\u001b[0m\u001b[1;33m(\u001b[0m\u001b[0mpath_or_buf\u001b[0m\u001b[1;33m,\u001b[0m \u001b[0mmode\u001b[0m\u001b[1;33m,\u001b[0m \u001b[0mencoding\u001b[0m\u001b[1;33m=\u001b[0m\u001b[0mencoding\u001b[0m\u001b[1;33m)\u001b[0m\u001b[1;33m\u001b[0m\u001b[0m\n\u001b[0m\u001b[0;32m    401\u001b[0m         \u001b[1;32melif\u001b[0m \u001b[0mis_text\u001b[0m\u001b[1;33m:\u001b[0m\u001b[1;33m\u001b[0m\u001b[0m\n\u001b[0;32m    402\u001b[0m             \u001b[1;31m# Python 3 and no explicit encoding\u001b[0m\u001b[1;33m\u001b[0m\u001b[1;33m\u001b[0m\u001b[0m\n",
      "\u001b[1;31mFileNotFoundError\u001b[0m: [Errno 2] No such file or directory: './back_test/lundong.csv'"
     ],
     "output_type": "error"
    }
   ],
   "source": [
    "close_df = pd.read_csv('./data/index_close.csv', encoding='utf-8-sig',index_col='DateTime')\n",
    "close_df.index=pd.DatetimeIndex(close_df.index)\n",
    "backtest1 = back_test.back_test_system(close_df, 'hs300', save_dir='./back_test/')\n",
    "df=backtest1.back_test_by_day('lundong',trade_model1,'20100101','20171231')"
   ]
  },
  {
   "cell_type": "code",
   "execution_count": null,
   "metadata": {},
   "outputs": [],
   "source": []
  }
 ],
 "metadata": {
  "kernelspec": {
   "display_name": "Python 3",
   "language": "python",
   "name": "python3"
  },
  "language_info": {
   "codemirror_mode": {
    "name": "ipython",
    "version": 3
   },
   "file_extension": ".py",
   "mimetype": "text/x-python",
   "name": "python",
   "nbconvert_exporter": "python",
   "pygments_lexer": "ipython3",
   "version": "3.6.5"
  }
 },
 "nbformat": 4,
 "nbformat_minor": 1
}
