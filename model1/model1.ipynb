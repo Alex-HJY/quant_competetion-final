{
 "cells": [
  {
   "cell_type": "code",
   "execution_count": 37,
   "metadata": {},
   "outputs": [],
   "source": [
    "import numpy as np\n",
    "import pandas as pd\n",
    "import matplotlib.pyplot as plt\n",
    "from datetime import timedelta\n",
    "from dateutil import parser\n",
    "from datetime import datetime\n",
    "%matplotlib inline"
   ]
  },
  {
   "cell_type": "code",
   "execution_count": 73,
   "metadata": {},
   "outputs": [],
   "source": [
    "economic_df = pd.read_csv('C:\\Alex_Code\\quant_competetion-final\\data\\economic_indicator.csv', \n",
    "                          encoding='utf-8-sig', index_col='DateTime')\n",
    "economic_df.index=economic_df.index.map(lambda x:str(x)[:-3])\n",
    "economic_df.index = pd.DatetimeIndex(economic_df.index)\n",
    "economic_df = economic_df[['CPI当月同比', '宏观经济景气指数一致指数']]"
   ]
  },
  {
   "cell_type": "code",
   "execution_count": 75,
   "metadata": {
    "collapsed": false
   },
   "outputs": [
    {
     "name": "stderr",
     "output_type": "stream",
     "text": [
      "C:\\Alex_Work\\anaconda3\\lib\\site-packages\\ipykernel_launcher.py:22: SettingWithCopyWarning: \nA value is trying to be set on a copy of a slice from a DataFrame\n\nSee the caveats in the documentation: http://pandas.pydata.org/pandas-docs/stable/indexing.html#indexing-view-versus-copy\nC:\\Alex_Work\\anaconda3\\lib\\site-packages\\ipykernel_launcher.py:12: SettingWithCopyWarning: \nA value is trying to be set on a copy of a slice from a DataFrame\n\nSee the caveats in the documentation: http://pandas.pydata.org/pandas-docs/stable/indexing.html#indexing-view-versus-copy\n  if sys.path[0] == '':\nC:\\Alex_Work\\anaconda3\\lib\\site-packages\\ipykernel_launcher.py:16: SettingWithCopyWarning: \nA value is trying to be set on a copy of a slice from a DataFrame\n\nSee the caveats in the documentation: http://pandas.pydata.org/pandas-docs/stable/indexing.html#indexing-view-versus-copy\n  app.launch_new_instance()\n"
     ]
    },
    {
     "name": "stderr",
     "output_type": "stream",
     "text": [
      "C:\\Alex_Work\\anaconda3\\lib\\site-packages\\ipykernel_launcher.py:20: SettingWithCopyWarning: \nA value is trying to be set on a copy of a slice from a DataFrame\n\nSee the caveats in the documentation: http://pandas.pydata.org/pandas-docs/stable/indexing.html#indexing-view-versus-copy\n"
     ]
    },
    {
     "name": "stderr",
     "output_type": "stream",
     "text": [
      "C:\\Alex_Work\\anaconda3\\lib\\site-packages\\ipykernel_launcher.py:8: SettingWithCopyWarning: \nA value is trying to be set on a copy of a slice from a DataFrame\n\nSee the caveats in the documentation: http://pandas.pydata.org/pandas-docs/stable/indexing.html#indexing-view-versus-copy\n  \n"
     ]
    },
    {
     "name": "stderr",
     "output_type": "stream",
     "text": [
      "C:\\Alex_Work\\anaconda3\\lib\\site-packages\\ipykernel_launcher.py:40: SettingWithCopyWarning: \nA value is trying to be set on a copy of a slice from a DataFrame\n\nSee the caveats in the documentation: http://pandas.pydata.org/pandas-docs/stable/indexing.html#indexing-view-versus-copy\nC:\\Alex_Work\\anaconda3\\lib\\site-packages\\ipykernel_launcher.py:26: SettingWithCopyWarning: \nA value is trying to be set on a copy of a slice from a DataFrame\n\nSee the caveats in the documentation: http://pandas.pydata.org/pandas-docs/stable/indexing.html#indexing-view-versus-copy\n"
     ]
    },
    {
     "name": "stderr",
     "output_type": "stream",
     "text": [
      "C:\\Alex_Work\\anaconda3\\lib\\site-packages\\ipykernel_launcher.py:34: SettingWithCopyWarning: \nA value is trying to be set on a copy of a slice from a DataFrame\n\nSee the caveats in the documentation: http://pandas.pydata.org/pandas-docs/stable/indexing.html#indexing-view-versus-copy\nC:\\Alex_Work\\anaconda3\\lib\\site-packages\\ipykernel_launcher.py:30: SettingWithCopyWarning: \nA value is trying to be set on a copy of a slice from a DataFrame\n\nSee the caveats in the documentation: http://pandas.pydata.org/pandas-docs/stable/indexing.html#indexing-view-versus-copy\nC:\\Alex_Work\\anaconda3\\lib\\site-packages\\ipykernel_launcher.py:38: SettingWithCopyWarning: \nA value is trying to be set on a copy of a slice from a DataFrame\n\nSee the caveats in the documentation: http://pandas.pydata.org/pandas-docs/stable/indexing.html#indexing-view-versus-copy\n"
     ]
    },
    {
     "name": "stderr",
     "output_type": "stream",
     "text": [
      "C:\\Alex_Work\\anaconda3\\lib\\site-packages\\pandas\\core\\indexing.py:189: SettingWithCopyWarning: \nA value is trying to be set on a copy of a slice from a DataFrame\n\nSee the caveats in the documentation: http://pandas.pydata.org/pandas-docs/stable/indexing.html#indexing-view-versus-copy\n  self._setitem_with_indexer(indexer, value)\nC:\\Alex_Work\\anaconda3\\lib\\site-packages\\ipykernel_launcher.py:52: SettingWithCopyWarning: \nA value is trying to be set on a copy of a slice from a DataFrame\n\nSee the caveats in the documentation: http://pandas.pydata.org/pandas-docs/stable/indexing.html#indexing-view-versus-copy\n"
     ]
    }
   ],
   "source": [
    "\n",
    "economic_df['cpi_trend']= 'up'\n",
    "economic_df['growth_trend']= 'down'\n",
    "month=4\n",
    "\n",
    "for  i in range(0, economic_df.__len__() - month):\n",
    "    if economic_df.iloc[i]['CPI当月同比']>economic_df.iloc[i + 1]['CPI当月同比'] and economic_df.iloc[i + 1]['CPI当月同比']>economic_df.iloc[i + 2]['CPI当月同比'] and \\\n",
    "        economic_df.iloc[i + 2]['CPI当月同比'] > economic_df.iloc[i + 3]['CPI当月同比'] :\n",
    "        economic_df.iloc[i]['cpi_trend']= 'down'\n",
    "        continue\n",
    "\n",
    "    if economic_df.iloc[i]['CPI当月同比']<economic_df.iloc[i + 1]['CPI当月同比'] and economic_df.iloc[i + 1]['CPI当月同比']<economic_df.iloc[i + 2]['CPI当月同比'] and \\\n",
    "        economic_df.iloc[i + 2]['CPI当月同比'] < economic_df.iloc[i + 3]['CPI当月同比'] :\n",
    "        economic_df.iloc[i]['cpi_trend']= 'up'\n",
    "        continue\n",
    "\n",
    "    if economic_df.iloc[i]['CPI当月同比']>max(economic_df.iloc[i + 1]['CPI当月同比'], economic_df.iloc[i + 2]['CPI当月同比'] , economic_df.iloc[i + 3]['CPI当月同比']) \\\n",
    "        and economic_df.iloc[i + month]['CPI当月同比']<min(economic_df.iloc[i + 1]['CPI当月同比'], economic_df.iloc[i + 2]['CPI当月同比'] , economic_df.iloc[i + 3]['CPI当月同比']):\n",
    "        economic_df.iloc[i]['cpi_trend']= 'down'\n",
    "        continue\n",
    "\n",
    "    if economic_df.iloc[i]['CPI当月同比'] < min(economic_df.iloc[i + 1]['CPI当月同比'], economic_df.iloc[i + 2]['CPI当月同比'], economic_df.iloc[i + 3]['CPI当月同比']) \\\n",
    "            and economic_df.iloc[i + month]['CPI当月同比'] > max(economic_df.iloc[i + 1]['CPI当月同比'], economic_df.iloc[i + 2]['CPI当月同比'], economic_df.iloc[i + 3]['CPI当月同比']):\n",
    "        economic_df.iloc[i]['cpi_trend'] = 'up'\n",
    "        continue\n",
    "    economic_df.iloc[i]['cpi_trend']=economic_df.iloc[i - 1]['cpi_trend']\n",
    "\n",
    "for  i in range(0, economic_df.__len__() - month):\n",
    "    if economic_df.iloc[i]['宏观经济景气指数一致指数']>economic_df.iloc[i + 1]['宏观经济景气指数一致指数'] and economic_df.iloc[i + 1]['宏观经济景气指数一致指数']>economic_df.iloc[i + 2]['宏观经济景气指数一致指数'] and \\\n",
    "        economic_df.iloc[i + 2]['宏观经济景气指数一致指数'] > economic_df.iloc[i + 3]['宏观经济景气指数一致指数'] :\n",
    "        economic_df.iloc[i]['growth_trend']= 'down'\n",
    "        continue\n",
    "\n",
    "    if economic_df.iloc[i]['宏观经济景气指数一致指数']<economic_df.iloc[i + 1]['宏观经济景气指数一致指数'] and economic_df.iloc[i + 1]['宏观经济景气指数一致指数']<economic_df.iloc[i + 2]['宏观经济景气指数一致指数'] and \\\n",
    "        economic_df.iloc[i + 2]['宏观经济景气指数一致指数'] < economic_df.iloc[i + 3]['宏观经济景气指数一致指数'] :\n",
    "        economic_df.iloc[i]['growth_trend']= 'up'\n",
    "        continue\n",
    "\n",
    "    if economic_df.iloc[i]['宏观经济景气指数一致指数']>max(economic_df.iloc[i + 1]['宏观经济景气指数一致指数'], economic_df.iloc[i + 2]['宏观经济景气指数一致指数'] , economic_df.iloc[i + 3]['宏观经济景气指数一致指数']) \\\n",
    "        and economic_df.iloc[i + month]['宏观经济景气指数一致指数']<min(economic_df.iloc[i + 1]['宏观经济景气指数一致指数'], economic_df.iloc[i + 2]['宏观经济景气指数一致指数'] , economic_df.iloc[i + 3]['宏观经济景气指数一致指数']):\n",
    "        economic_df.iloc[i][ 'growth_trend']= 'down'\n",
    "        continue\n",
    "\n",
    "    if economic_df.iloc[i]['宏观经济景气指数一致指数'] < min(economic_df.iloc[i + 1]['宏观经济景气指数一致指数'], economic_df.iloc[i + 2]['宏观经济景气指数一致指数'], economic_df.iloc[i + 3]['宏观经济景气指数一致指数']) \\\n",
    "            and economic_df.iloc[i + month]['宏观经济景气指数一致指数'] > max(economic_df.iloc[i + 1]['宏观经济景气指数一致指数'], economic_df.iloc[i + 2]['宏观经济景气指数一致指数'], economic_df.iloc[i + 3]['宏观经济景气指数一致指数']):\n",
    "        economic_df.iloc[i]['growth_trend'] = 'up'\n",
    "        continue\n",
    "    economic_df.iloc[i]['growth_trend']=economic_df.iloc[i - 1]['growth_trend']\n",
    "\n",
    "economic_df['trend']= ''\n",
    "\n",
    "for  i in range(0, economic_df.__len__() - month):\n",
    "    if economic_df.iloc[i]['growth_trend']== 'up':\n",
    "        if economic_df.iloc[i]['cpi_trend']== 'up':\n",
    "            economic_df.iloc[i].loc['trend']= '过热'\n",
    "        else:\n",
    "            economic_df.iloc[i].loc['trend'] = '复苏'\n",
    "    else:\n",
    "        if economic_df.iloc[i]['cpi_trend']== 'up':\n",
    "            economic_df.iloc[i].loc['trend']= '滞涨'\n",
    "        else:\n",
    "            economic_df.iloc[i].loc['trend'] = '衰退'"
   ]
  },
  {
   "cell_type": "code",
   "execution_count": 77,
   "metadata": {},
   "outputs": [
    {
     "name": "stdout",
     "output_type": "stream",
     "text": [
      "            CPI当月同比  宏观经济景气指数一致指数 cpi_trend growth_trend trend\nDateTime                                                      \n2001-01-01      1.2         96.39        up         down      \n2001-02-01      0.0         96.83        up         down      \n2001-03-01      0.8         97.49        up         down      \n2001-04-01      1.6         96.63        up         down      \n2001-05-01      1.7         96.28        up         down      \n"
     ]
    }
   ],
   "source": [
    "print(economic_df.head())"
   ]
  },
  {
   "cell_type": "code",
   "execution_count": null,
   "metadata": {},
   "outputs": [],
   "source": []
  }
 ],
 "metadata": {
  "kernelspec": {
   "display_name": "Python 3",
   "language": "python",
   "name": "python3"
  },
  "language_info": {
   "codemirror_mode": {
    "name": "ipython",
    "version": 3
   },
   "file_extension": ".py",
   "mimetype": "text/x-python",
   "name": "python",
   "nbconvert_exporter": "python",
   "pygments_lexer": "ipython3",
   "version": "3.6.5"
  }
 },
 "nbformat": 4,
 "nbformat_minor": 1
}
